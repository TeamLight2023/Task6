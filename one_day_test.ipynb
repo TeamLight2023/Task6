{
 "cells": [
  {
   "cell_type": "code",
   "execution_count": 1,
   "metadata": {},
   "outputs": [],
   "source": [
    "import pandas as pd"
   ]
  },
  {
   "cell_type": "code",
   "execution_count": 1,
   "metadata": {},
   "outputs": [],
   "source": [
    "from opt_route_3 import *"
   ]
  },
  {
   "cell_type": "markdown",
   "metadata": {},
   "source": [
    "Пример запуска скрипта на одном дне.\n",
    "На вход нужны:\n",
    "+ данные по остаткам за прошлый день, \n",
    "+ прогнозы на текущий,\n",
    "+ история посещений терминалов броневиками в формате terms_dict_by_date.json,\n",
    "+ а также данные по времени в пути и по аутлайерам (относительно постоянны)"
   ]
  },
  {
   "cell_type": "code",
   "execution_count": 4,
   "metadata": {},
   "outputs": [
    {
     "name": "stdout",
     "output_type": "stream",
     "text": [
      "DAY 2022-12-01 00:00:00\n",
      "Максимальное время в пути: 710min\n",
      "Точек объезда в день - 160\n",
      "2022-12-01 00:00:00 день - Готово\n"
     ]
    }
   ],
   "source": [
    "res_day = optroutefinder_lanch_oneday(path_to_times = 'data/times v4.csv',\n",
    "    path_to_outliers = 'data/outliers_and_data_per_tid_per_date.csv',\n",
    "    path_to_day_predict = 'data/predict_out_test_2022-12-01.csv',\n",
    "    path_to_terms_history = 'data/terms_dict_by_date.json',\n",
    "    path_to_balance='data/balance_2022-11-30.csv',\n",
    "    max_cash = 1000000,\n",
    "    p_per_day = 0.02/365,\n",
    "    days_limit = 14,\n",
    "    car_cost = 20000,\n",
    "    work_day = 12*60,\n",
    "    service_time = 10,\n",
    "    p_service_cost = 0.0001,\n",
    "    predict_cash_trust=0.9,\n",
    "    num_veh=5,\n",
    "    cycle_time=480,\n",
    "    koef_priority_0 = 10000000,\n",
    "    koef_nes_degree=2.6,\n",
    "    koef_step_func=1,\n",
    "    koef_costs_without_vehicle=10000,\n",
    "    outlier_limit=500000,\n",
    "    koef_outlier = 0,\n",
    "    save_history=False) # True чтобы сохранить историю маршрутов броневиков для этого дня"
   ]
  },
  {
   "cell_type": "code",
   "execution_count": null,
   "metadata": {},
   "outputs": [],
   "source": []
  }
 ],
 "metadata": {
  "kernelspec": {
   "display_name": "Python 3",
   "language": "python",
   "name": "python3"
  },
  "language_info": {
   "codemirror_mode": {
    "name": "ipython",
    "version": 3
   },
   "file_extension": ".py",
   "mimetype": "text/x-python",
   "name": "python",
   "nbconvert_exporter": "python",
   "pygments_lexer": "ipython3",
   "version": "3.8.5"
  }
 },
 "nbformat": 4,
 "nbformat_minor": 4
}
