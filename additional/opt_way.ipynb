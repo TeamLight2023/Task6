{
 "cells": [
  {
   "cell_type": "code",
   "execution_count": 1,
   "metadata": {},
   "outputs": [],
   "source": [
    "import pandas as pd\n",
    "import numpy as np\n",
    "\n",
    "import json\n",
    "import pickle\n",
    "import itertools\n",
    "#from flask import *\n",
    "\n",
    "from geopy.distance import distance, geodesic\n",
    "import time\n",
    "import matplotlib.pyplot as plt\n",
    "from overpy.exception import OverpassTooManyRequests, OverpassGatewayTimeout\n",
    "import importlib\n",
    "import geo_utils as geou\n",
    "import warnings\n",
    "#import geo_consts as gc"
   ]
  },
  {
   "cell_type": "code",
   "execution_count": 2,
   "metadata": {},
   "outputs": [],
   "source": [
    "geou = importlib.reload(geou)\n",
    "geouconn = geou.OverPassConnector()\n",
    "\n",
    "warnings.filterwarnings('ignore')"
   ]
  },
  {
   "cell_type": "code",
   "execution_count": 3,
   "metadata": {},
   "outputs": [],
   "source": [
    "test_lat = 55.736250\n",
    "test_lon = 37.594180"
   ]
  },
  {
   "cell_type": "markdown",
   "metadata": {},
   "source": [
    "# Тестовый набор банкоматов"
   ]
  },
  {
   "cell_type": "code",
   "execution_count": 4,
   "metadata": {},
   "outputs": [],
   "source": [
    "#geo_dict = {'Банкомат': ['amenity=atm', 10000]}\n",
    "atm_desc = [['amenity=atm'], 20000]"
   ]
  },
  {
   "cell_type": "code",
   "execution_count": 9,
   "metadata": {},
   "outputs": [
    {
     "name": "stdout",
     "output_type": "stream",
     "text": [
      "Wall time: 1.61 s\n"
     ]
    }
   ],
   "source": [
    "%%time\n",
    "for i in range(10):\n",
    "    try:\n",
    "        osm_nodes = geouconn.count_infrastructure_around_point((test_lat, test_lon), radius=atm_desc[1], tags=atm_desc[0])\n",
    "        break\n",
    "    except OverpassTooManyRequests:\n",
    "        time.sleep(2)\n",
    "    except OverpassGatewayTimeout:\n",
    "        time.sleep(10)\n",
    "    except:\n",
    "        time.sleep(2)"
   ]
  },
  {
   "cell_type": "code",
   "execution_count": 10,
   "metadata": {},
   "outputs": [],
   "source": [
    "test_long_lst = list(map(lambda x: [float(x.lat), float(x.lon)], osm_nodes))"
   ]
  },
  {
   "cell_type": "code",
   "execution_count": 11,
   "metadata": {},
   "outputs": [
    {
     "data": {
      "text/plain": [
       "2319"
      ]
     },
     "execution_count": 11,
     "metadata": {},
     "output_type": "execute_result"
    }
   ],
   "source": [
    "len(test_long_lst)"
   ]
  },
  {
   "cell_type": "code",
   "execution_count": 12,
   "metadata": {},
   "outputs": [],
   "source": [
    "import random"
   ]
  },
  {
   "cell_type": "code",
   "execution_count": 13,
   "metadata": {},
   "outputs": [],
   "source": [
    "random.seed(42)\n",
    "test_short_lst = random.choices(test_long_lst, k=50)"
   ]
  },
  {
   "cell_type": "code",
   "execution_count": 14,
   "metadata": {},
   "outputs": [],
   "source": [
    "dict_atm={}\n",
    "for i,coord in zip(range(len(test_short_lst)), test_short_lst):\n",
    "    dict_atm[i] = coord "
   ]
  },
  {
   "cell_type": "code",
   "execution_count": 15,
   "metadata": {},
   "outputs": [],
   "source": [
    "test_short_lst_pairs = list(itertools.combinations(dict_atm.keys(), 2))"
   ]
  },
  {
   "cell_type": "code",
   "execution_count": 16,
   "metadata": {},
   "outputs": [],
   "source": [
    "test_short_lst_pairs_double = test_short_lst_pairs + [(x[1], x[0]) for x in test_short_lst_pairs]"
   ]
  },
  {
   "cell_type": "code",
   "execution_count": 17,
   "metadata": {},
   "outputs": [
    {
     "data": {
      "text/plain": [
       "2450"
      ]
     },
     "execution_count": 17,
     "metadata": {},
     "output_type": "execute_result"
    }
   ],
   "source": [
    "len(test_short_lst_pairs_double)"
   ]
  },
  {
   "cell_type": "code",
   "execution_count": 24,
   "metadata": {},
   "outputs": [],
   "source": [
    "test_short_lst_pairs_double_coord = list(map(lambda x: (dict_atm[x[0]], dict_atm[x[1]]), test_short_lst_pairs_double))"
   ]
  },
  {
   "cell_type": "markdown",
   "metadata": {},
   "source": [
    "# Расстояние между точками"
   ]
  },
  {
   "cell_type": "code",
   "execution_count": 5,
   "metadata": {},
   "outputs": [],
   "source": [
    "osrmuconn = geou.OSRMConnector()"
   ]
  },
  {
   "cell_type": "code",
   "execution_count": null,
   "metadata": {},
   "outputs": [],
   "source": [
    "dist_straight_m = list(map(lambda x: np.round(geou.geodistanse(x[0][0], x[0][1], x[1][0], x[1][1])*1000,2), test_short_lst_pairs_double_coord))"
   ]
  },
  {
   "cell_type": "code",
   "execution_count": 28,
   "metadata": {},
   "outputs": [
    {
     "name": "stdout",
     "output_type": "stream",
     "text": [
      "Wall time: 0 ns\n"
     ]
    }
   ],
   "source": [
    "%%time\n",
    "bycar_dist_center = map(lambda x: osrmuconn.get_route_car((x[0][0], x[0][1]), (x[1][0], x[1][1])), test_short_lst_pairs_double_coord)"
   ]
  },
  {
   "cell_type": "code",
   "execution_count": 32,
   "metadata": {},
   "outputs": [],
   "source": [
    "# 1 кейс - 0.5 сек."
   ]
  },
  {
   "cell_type": "code",
   "execution_count": 33,
   "metadata": {},
   "outputs": [],
   "source": [
    "car_distance_m = list(map(lambda x: x['distance'], bycar_dist_center))\n",
    "car_distance_min = list(map(lambda x: np.round(x['duration'] / 60, 2), bycar_dist_center))"
   ]
  },
  {
   "cell_type": "code",
   "execution_count": 34,
   "metadata": {},
   "outputs": [],
   "source": [
    "#тест"
   ]
  },
  {
   "cell_type": "code",
   "execution_count": 35,
   "metadata": {},
   "outputs": [
    {
     "data": {
      "text/plain": [
       "([55.8084292, 37.5292915], [55.8114155, 37.3864134])"
      ]
     },
     "execution_count": 35,
     "metadata": {},
     "output_type": "execute_result"
    }
   ],
   "source": [
    "test_short_lst_pairs_double_coord[0]"
   ]
  },
  {
   "cell_type": "code",
   "execution_count": 36,
   "metadata": {},
   "outputs": [
    {
     "data": {
      "text/plain": [
       "([55.8114155, 37.3864134], [55.8084292, 37.5292915])"
      ]
     },
     "execution_count": 36,
     "metadata": {},
     "output_type": "execute_result"
    }
   ],
   "source": [
    "test_short_lst_pairs_double_coord[1225]"
   ]
  },
  {
   "cell_type": "code",
   "execution_count": 37,
   "metadata": {},
   "outputs": [],
   "source": [
    "#время без учета пробок -1-2 мин совпадает с яндексом.\n",
    "#нужно учитывать пробки - увеличивать время\n",
    "#учитывать время обслуживания"
   ]
  },
  {
   "cell_type": "code",
   "execution_count": null,
   "metadata": {},
   "outputs": [],
   "source": [
    "car_distance_min[1225]"
   ]
  },
  {
   "cell_type": "code",
   "execution_count": 213,
   "metadata": {},
   "outputs": [],
   "source": [
    "res_df = pd.DataFrame(test_short_lst_pairs_double, columns=['start_point_id', 'end_point_id'])\n",
    "res_df['start_point'] = [x[0] for x in test_short_lst_pairs_double_coord]\n",
    "res_df['end_point'] = [x[1] for x in test_short_lst_pairs_double_coord]\n",
    "res_df['car_distance_min'] = car_distance_min\n",
    "res_df['car_distance_m'] = car_distance_m"
   ]
  },
  {
   "cell_type": "code",
   "execution_count": 214,
   "metadata": {},
   "outputs": [],
   "source": [
    "#res_df.to_csv('test_base_coordinates.csv', index=False)"
   ]
  },
  {
   "cell_type": "code",
   "execution_count": 7,
   "metadata": {},
   "outputs": [],
   "source": [
    "res_df = pd.read_csv('test_base_coordinates.csv')"
   ]
  },
  {
   "cell_type": "code",
   "execution_count": 8,
   "metadata": {},
   "outputs": [
    {
     "data": {
      "text/html": [
       "<div>\n",
       "<style scoped>\n",
       "    .dataframe tbody tr th:only-of-type {\n",
       "        vertical-align: middle;\n",
       "    }\n",
       "\n",
       "    .dataframe tbody tr th {\n",
       "        vertical-align: top;\n",
       "    }\n",
       "\n",
       "    .dataframe thead th {\n",
       "        text-align: right;\n",
       "    }\n",
       "</style>\n",
       "<table border=\"1\" class=\"dataframe\">\n",
       "  <thead>\n",
       "    <tr style=\"text-align: right;\">\n",
       "      <th></th>\n",
       "      <th>start_point_id</th>\n",
       "      <th>end_point_id</th>\n",
       "      <th>start_point</th>\n",
       "      <th>end_point</th>\n",
       "      <th>car_distance_min</th>\n",
       "      <th>car_distance_m</th>\n",
       "    </tr>\n",
       "  </thead>\n",
       "  <tbody>\n",
       "    <tr>\n",
       "      <th>0</th>\n",
       "      <td>0</td>\n",
       "      <td>1</td>\n",
       "      <td>[55.762316, 37.5854656]</td>\n",
       "      <td>[55.8114155, 37.3864134]</td>\n",
       "      <td>21.61</td>\n",
       "      <td>18241.1</td>\n",
       "    </tr>\n",
       "    <tr>\n",
       "      <th>1</th>\n",
       "      <td>0</td>\n",
       "      <td>2</td>\n",
       "      <td>[55.762316, 37.5854656]</td>\n",
       "      <td>[55.774565, 37.5874377]</td>\n",
       "      <td>3.93</td>\n",
       "      <td>2535.0</td>\n",
       "    </tr>\n",
       "    <tr>\n",
       "      <th>2</th>\n",
       "      <td>0</td>\n",
       "      <td>3</td>\n",
       "      <td>[55.762316, 37.5854656]</td>\n",
       "      <td>[55.807749, 37.570132]</td>\n",
       "      <td>12.61</td>\n",
       "      <td>7920.1</td>\n",
       "    </tr>\n",
       "    <tr>\n",
       "      <th>3</th>\n",
       "      <td>0</td>\n",
       "      <td>4</td>\n",
       "      <td>[55.762316, 37.5854656]</td>\n",
       "      <td>[55.6385471, 37.3580205]</td>\n",
       "      <td>30.71</td>\n",
       "      <td>24676.5</td>\n",
       "    </tr>\n",
       "    <tr>\n",
       "      <th>4</th>\n",
       "      <td>0</td>\n",
       "      <td>5</td>\n",
       "      <td>[55.762316, 37.5854656]</td>\n",
       "      <td>[55.8184048, 37.6152322]</td>\n",
       "      <td>14.24</td>\n",
       "      <td>9637.1</td>\n",
       "    </tr>\n",
       "    <tr>\n",
       "      <th>...</th>\n",
       "      <td>...</td>\n",
       "      <td>...</td>\n",
       "      <td>...</td>\n",
       "      <td>...</td>\n",
       "      <td>...</td>\n",
       "      <td>...</td>\n",
       "    </tr>\n",
       "    <tr>\n",
       "      <th>2445</th>\n",
       "      <td>48</td>\n",
       "      <td>46</td>\n",
       "      <td>[55.87561, 37.6654784]</td>\n",
       "      <td>[55.7684031, 37.6246871]</td>\n",
       "      <td>18.70</td>\n",
       "      <td>14114.2</td>\n",
       "    </tr>\n",
       "    <tr>\n",
       "      <th>2446</th>\n",
       "      <td>49</td>\n",
       "      <td>46</td>\n",
       "      <td>[55.8941329, 37.4497595]</td>\n",
       "      <td>[55.7684031, 37.6246871]</td>\n",
       "      <td>27.17</td>\n",
       "      <td>22280.2</td>\n",
       "    </tr>\n",
       "    <tr>\n",
       "      <th>2447</th>\n",
       "      <td>48</td>\n",
       "      <td>47</td>\n",
       "      <td>[55.87561, 37.6654784]</td>\n",
       "      <td>[55.6303056, 37.6242314]</td>\n",
       "      <td>40.19</td>\n",
       "      <td>30255.2</td>\n",
       "    </tr>\n",
       "    <tr>\n",
       "      <th>2448</th>\n",
       "      <td>49</td>\n",
       "      <td>47</td>\n",
       "      <td>[55.8941329, 37.4497595]</td>\n",
       "      <td>[55.6303056, 37.6242314]</td>\n",
       "      <td>43.07</td>\n",
       "      <td>38802.9</td>\n",
       "    </tr>\n",
       "    <tr>\n",
       "      <th>2449</th>\n",
       "      <td>49</td>\n",
       "      <td>48</td>\n",
       "      <td>[55.8941329, 37.4497595]</td>\n",
       "      <td>[55.87561, 37.6654784]</td>\n",
       "      <td>19.99</td>\n",
       "      <td>20168.6</td>\n",
       "    </tr>\n",
       "  </tbody>\n",
       "</table>\n",
       "<p>2450 rows × 6 columns</p>\n",
       "</div>"
      ],
      "text/plain": [
       "      start_point_id  end_point_id               start_point  \\\n",
       "0                  0             1   [55.762316, 37.5854656]   \n",
       "1                  0             2   [55.762316, 37.5854656]   \n",
       "2                  0             3   [55.762316, 37.5854656]   \n",
       "3                  0             4   [55.762316, 37.5854656]   \n",
       "4                  0             5   [55.762316, 37.5854656]   \n",
       "...              ...           ...                       ...   \n",
       "2445              48            46    [55.87561, 37.6654784]   \n",
       "2446              49            46  [55.8941329, 37.4497595]   \n",
       "2447              48            47    [55.87561, 37.6654784]   \n",
       "2448              49            47  [55.8941329, 37.4497595]   \n",
       "2449              49            48  [55.8941329, 37.4497595]   \n",
       "\n",
       "                     end_point  car_distance_min  car_distance_m  \n",
       "0     [55.8114155, 37.3864134]             21.61         18241.1  \n",
       "1      [55.774565, 37.5874377]              3.93          2535.0  \n",
       "2       [55.807749, 37.570132]             12.61          7920.1  \n",
       "3     [55.6385471, 37.3580205]             30.71         24676.5  \n",
       "4     [55.8184048, 37.6152322]             14.24          9637.1  \n",
       "...                        ...               ...             ...  \n",
       "2445  [55.7684031, 37.6246871]             18.70         14114.2  \n",
       "2446  [55.7684031, 37.6246871]             27.17         22280.2  \n",
       "2447  [55.6303056, 37.6242314]             40.19         30255.2  \n",
       "2448  [55.6303056, 37.6242314]             43.07         38802.9  \n",
       "2449    [55.87561, 37.6654784]             19.99         20168.6  \n",
       "\n",
       "[2450 rows x 6 columns]"
      ]
     },
     "execution_count": 8,
     "metadata": {},
     "output_type": "execute_result"
    }
   ],
   "source": [
    "res_df"
   ]
  },
  {
   "cell_type": "code",
   "execution_count": 9,
   "metadata": {},
   "outputs": [
    {
     "ename": "NameError",
     "evalue": "name 'test_short_lst' is not defined",
     "output_type": "error",
     "traceback": [
      "\u001b[1;31m---------------------------------------------------------------------------\u001b[0m",
      "\u001b[1;31mNameError\u001b[0m                                 Traceback (most recent call last)",
      "\u001b[1;32m<ipython-input-9-d5174dded4cc>\u001b[0m in \u001b[0;36m<module>\u001b[1;34m\u001b[0m\n\u001b[1;32m----> 1\u001b[1;33m \u001b[0mpoints_coordinate\u001b[0m \u001b[1;33m=\u001b[0m \u001b[0mnp\u001b[0m\u001b[1;33m.\u001b[0m\u001b[0marray\u001b[0m\u001b[1;33m(\u001b[0m\u001b[0mtest_short_lst\u001b[0m\u001b[1;33m)\u001b[0m\u001b[1;33m\u001b[0m\u001b[1;33m\u001b[0m\u001b[0m\n\u001b[0m\u001b[0;32m      2\u001b[0m \u001b[0mnum_points\u001b[0m \u001b[1;33m=\u001b[0m \u001b[0mlen\u001b[0m\u001b[1;33m(\u001b[0m\u001b[0mpoints_coordinate\u001b[0m\u001b[1;33m)\u001b[0m\u001b[1;33m\u001b[0m\u001b[1;33m\u001b[0m\u001b[0m\n",
      "\u001b[1;31mNameError\u001b[0m: name 'test_short_lst' is not defined"
     ]
    }
   ],
   "source": [
    "points_coordinate = np.array(test_short_lst)\n",
    "num_points = len(points_coordinate)"
   ]
  },
  {
   "cell_type": "code",
   "execution_count": 10,
   "metadata": {},
   "outputs": [],
   "source": [
    "distance_matrix_df = pd.pivot_table(res_df, values='car_distance_min', index=['start_point_id'],\n",
    "                       columns=['end_point_id'], aggfunc=np.sum).fillna(0)"
   ]
  },
  {
   "cell_type": "code",
   "execution_count": 11,
   "metadata": {},
   "outputs": [
    {
     "data": {
      "text/plain": [
       "(50, 50)"
      ]
     },
     "execution_count": 11,
     "metadata": {},
     "output_type": "execute_result"
    }
   ],
   "source": [
    "distance_matrix = np.array(distance_matrix_df)\n",
    "distance_matrix.shape"
   ]
  },
  {
   "cell_type": "code",
   "execution_count": 24,
   "metadata": {},
   "outputs": [],
   "source": [
    "with open('distance_matrix.txt','wb') as f:\n",
    "    for line in distance_matrix:\n",
    "        np.savetxt(f, line, fmt='%.2f')"
   ]
  },
  {
   "cell_type": "code",
   "execution_count": 26,
   "metadata": {},
   "outputs": [],
   "source": [
    "d = pd.DataFrame(data=distance_matrix.astype(float))\n",
    "d.to_csv('distance_matrix.csv', sep=' ', header=False, float_format='%.2f', index=False)"
   ]
  },
  {
   "cell_type": "code",
   "execution_count": 12,
   "metadata": {},
   "outputs": [],
   "source": [
    "imput_matrix = [list(map(lambda x: int(np.ceil(x)), row)) for row in distance_matrix]"
   ]
  },
  {
   "cell_type": "markdown",
   "metadata": {},
   "source": [
    "# Муравьиная колония"
   ]
  },
  {
   "cell_type": "code",
   "execution_count": 157,
   "metadata": {},
   "outputs": [],
   "source": [
    "class ACO_TSP:  # класс алгоритма муравьиной колонии для решения задачи коммивояжёра\n",
    "    def __init__(self, func, n_dim, size_pop=10, max_iter=20, distance_matrix=None, alpha=1, beta=2, rho=0.1):\n",
    "        self.func = func\n",
    "        self.n_dim = n_dim  # количество точек\n",
    "        self.size_pop = size_pop  # количество муравьёв\n",
    "        self.max_iter = max_iter  # количество итераций\n",
    "        self.alpha = alpha  # коэффициент важности феромонов в выборе пути\n",
    "        self.beta = beta  # коэффициент значимости расстояния\n",
    "        self.rho = rho  # скорость испарения феромонов\n",
    "\n",
    "        self.prob_matrix_distance = 1 / (distance_matrix + 1e-10 * np.eye(n_dim, n_dim))\n",
    "\n",
    "        # Матрица феромонов, обновляющаяся каждую итерацию\n",
    "        self.Tau = np.ones((n_dim, n_dim))\n",
    "        # Путь каждого муравья в определённом поколении\n",
    "        self.Table = np.zeros((size_pop, n_dim)).astype(int)\n",
    "        self.y = None  # Общее расстояние пути муравья в определённом поколении\n",
    "        self.generation_best_X, self.generation_best_Y = [], [] # фиксирование лучших поколений\n",
    "        self.x_best_history, self.y_best_history = self.generation_best_X, self.generation_best_Y\n",
    "        self.best_x, self.best_y = None, None\n",
    "\n",
    "    def run(self, max_iter=None):\n",
    "        self.max_iter = max_iter or self.max_iter\n",
    "        for i in range(self.max_iter):\n",
    "            # вероятность перехода без нормализации\n",
    "            prob_matrix = (self.Tau ** self.alpha) * (self.prob_matrix_distance) ** self.beta\n",
    "            for j in range(self.size_pop):  # для каждого муравья\n",
    "                # точка начала пути (она может быть случайной, это не имеет значения)\n",
    "                self.Table[j, 0] = 0\n",
    "                for k in range(self.n_dim - 1):  # каждая вершина, которую проходят муравьи\n",
    "                    # точка, которая была пройдена и не может быть пройдена повторно\n",
    "                    taboo_set = set(self.Table[j, :k + 1])\n",
    "                    # список разрешённых вершин, из которых будет происходить выбор\n",
    "                    allow_list = list(set(range(self.n_dim)) - taboo_set)\n",
    "                    prob = prob_matrix[self.Table[j, k], allow_list]\n",
    "                    prob = prob / prob.sum() # нормализация вероятности\n",
    "                    next_point = np.random.choice(allow_list, size=1, p=prob)[0]\n",
    "                    self.Table[j, k + 1] = next_point\n",
    "\n",
    "            # рассчёт расстояния\n",
    "            y = np.array([self.func(i) for i in self.Table])\n",
    "\n",
    "            # фиксация лучшего решения\n",
    "            index_best = y.argmin()\n",
    "            x_best, y_best = self.Table[index_best, :].copy(), y[index_best].copy()\n",
    "            self.generation_best_X.append(x_best)\n",
    "            self.generation_best_Y.append(y_best)\n",
    "\n",
    "            # подсчёт феромона, который будет добавлен к ребру\n",
    "            delta_tau = np.zeros((self.n_dim, self.n_dim))\n",
    "            for j in range(self.size_pop):  # для каждого муравья\n",
    "                for k in range(self.n_dim - 1):  # для каждой вершины\n",
    "                    # муравьи перебираются из вершины n1 в вершину n2\n",
    "                    n1, n2 = self.Table[j, k], self.Table[j, k + 1]\n",
    "                    delta_tau[n1, n2] += 1 / y[j]  # нанесение феромона\n",
    "                # муравьи ползут от последней вершины обратно к первой\n",
    "                n1, n2 = self.Table[j, self.n_dim - 1], self.Table[j, 0]\n",
    "                delta_tau[n1, n2] += 1 / y[j]  # нанесение феромона\n",
    "\n",
    "            self.Tau = (1 - self.rho) * self.Tau + delta_tau\n",
    "\n",
    "        best_generation = np.array(self.generation_best_Y).argmin()\n",
    "        self.best_x = self.generation_best_X[best_generation]\n",
    "        self.best_y = self.generation_best_Y[best_generation]\n",
    "        return self.best_x, self.best_y\n",
    "\n",
    "    fit = run"
   ]
  },
  {
   "cell_type": "code",
   "execution_count": 183,
   "metadata": {},
   "outputs": [
    {
     "data": {
      "image/png": "[encoded data removed]",
      "text/plain": [
       "<Figure size 1440x720 with 2 Axes>"
      ]
     },
     "metadata": {
      "needs_background": "light"
     },
     "output_type": "display_data"
    },
    {
     "name": "stdout",
     "output_type": "stream",
     "text": [
      "time of execution: 13.617581129074097 seconds\n"
     ]
    }
   ],
   "source": [
    "# вычисление длины пути\n",
    "def cal_total_distance(routine):\n",
    "    num_points, = routine.shape\n",
    "    return sum([distance_matrix[routine[i % num_points], routine[(i + 1) % num_points]] for i in range(num_points)])\n",
    "\n",
    "def main():\n",
    "    # создание объекта алгоритма муравьиной колонии\n",
    "    aca = ACO_TSP(func=cal_total_distance, n_dim=num_points,\n",
    "                  size_pop=50,  # количество муравьёв\n",
    "                  max_iter=100, distance_matrix=distance_matrix)\n",
    "    best_x, best_y = aca.run()\n",
    "\n",
    "    # Вывод результатов на экран\n",
    "    fig, ax = plt.subplots(1, 2)\n",
    "    best_points_ = np.concatenate([best_x, [best_x[0]]])\n",
    "    best_points_coordinate = points_coordinate[best_points_, :]\n",
    "    for index in range(0, len(best_points_)):\n",
    "        ax[0].annotate(best_points_[index], (best_points_coordinate[index, 0], best_points_coordinate[index, 1]))\n",
    "    ax[0].plot(best_points_coordinate[:, 0],\n",
    "               best_points_coordinate[:, 1], 'o-r')\n",
    "    pd.DataFrame(aca.y_best_history).cummin().plot(ax=ax[1])\n",
    "    # изменение размера графиков\n",
    "    plt.rcParams['figure.figsize'] = [20, 10]\n",
    "    plt.show()\n",
    "    return best_x, best_y\n",
    "\n",
    "if __name__ == \"__main__\":\n",
    "    start_time = time.time() # сохранение времени начала выполнения\n",
    "    best_x, best_y = main() # выполнение кода\n",
    "    print(\"time of execution: %s seconds\" %abs (time.time() - start_time)) # вычисление времени выполнения"
   ]
  },
  {
   "cell_type": "code",
   "execution_count": 184,
   "metadata": {},
   "outputs": [
    {
     "data": {
      "text/plain": [
       "array([ 0,  2, 16, 46,  9,  6, 34, 43, 31, 44,  7, 37, 45, 11, 29, 47, 32,\n",
       "       27, 12, 18, 30, 28, 33, 38, 41, 13, 26, 22,  5, 42, 48, 36, 40,  3,\n",
       "       35, 23, 17, 10, 49, 39, 21,  1, 19, 14, 24,  4, 15, 25, 20,  8])"
      ]
     },
     "execution_count": 184,
     "metadata": {},
     "output_type": "execute_result"
    }
   ],
   "source": [
    "best_x"
   ]
  },
  {
   "cell_type": "code",
   "execution_count": 236,
   "metadata": {},
   "outputs": [
    {
     "data": {
      "text/plain": [
       "441.84"
      ]
     },
     "execution_count": 236,
     "metadata": {},
     "output_type": "execute_result"
    }
   ],
   "source": [
    "best_y"
   ]
  },
  {
   "cell_type": "code",
   "execution_count": 187,
   "metadata": {},
   "outputs": [
    {
     "data": {
      "text/plain": [
       "7.364"
      ]
     },
     "execution_count": 187,
     "metadata": {},
     "output_type": "execute_result"
    }
   ],
   "source": [
    "best_y/60 # часов"
   ]
  },
  {
   "cell_type": "markdown",
   "metadata": {},
   "source": [
    "# Алгоритм Дейстры"
   ]
  },
  {
   "cell_type": "code",
   "execution_count": null,
   "metadata": {},
   "outputs": [],
   "source": [
    "nodes = ('A', 'B', 'C', 'D', 'E', 'F', 'G')\n",
    "distances = {\n",
    "    'B': {'A': 5, 'D': 1, 'G': 2},\n",
    "    'A': {'B': 5, 'D': 3, 'E': 12, 'F' :5},\n",
    "    'D': {'B': 1, 'G': 1, 'E': 1, 'A': 3},\n",
    "    'G': {'B': 2, 'D': 1, 'C': 2},\n",
    "    'C': {'G': 2, 'E': 1, 'F': 16},\n",
    "    'E': {'A': 12, 'D': 1, 'C': 1, 'F': 2},\n",
    "    'F': {'A': 5, 'E': 2, 'C': 16}}\n",
    "unvisited = {node: None for node in nodes} #using None as +inf\n",
    "visited = {}\n",
    "current = 'B'\n",
    "currentDistance = 0\n",
    "unvisited[current] = currentDistance\n",
    "while True:\n",
    "    for neighbour, distance in distances[current].items():\n",
    "        if neighbour not in unvisited: continue\n",
    "        newDistance = currentDistance + distance\n",
    "        if unvisited[neighbour] is None or unvisited[neighbour] > newDistance:\n",
    "            unvisited[neighbour] = newDistance\n",
    "    visited[current] = currentDistance\n",
    "    del unvisited[current]\n",
    "    if not unvisited: break\n",
    "    candidates = [node for node in unvisited.items() if node[1]]\n",
    "    current, currentDistance = sorted(candidates, key = lambda x: x[1])[0]\n",
    "print(visited)"
   ]
  },
  {
   "cell_type": "markdown",
   "metadata": {},
   "source": [
    "# Задача коммивояжера на Python методом ветвей и границ(алгоритм Литтла)"
   ]
  },
  {
   "cell_type": "raw",
   "metadata": {},
   "source": [
    "https://github.com/Clever-Shadow/python-salesman"
   ]
  },
  {
   "cell_type": "code",
   "execution_count": 512,
   "metadata": {},
   "outputs": [],
   "source": [
    "def Min(lst,myindex):\n",
    "    return min(x for idx, x in enumerate(lst) if idx != myindex)\n",
    "\n",
    "#функция удаления нужной строки и столбцах\n",
    "def Delete(matrix,index1,index2):\n",
    "    del matrix[index1]\n",
    "    for i in matrix:\n",
    "        del i[index2]\n",
    "    return matrix\n",
    "\n",
    "#Функция вывода матрицы\n",
    "def PrintMatrix(matrix):\n",
    "    print(\"---------------\")\n",
    "    for i in range(len(matrix)):\n",
    "        print(matrix[i])\n",
    "    print(\"---------------\")"
   ]
  },
  {
   "cell_type": "code",
   "execution_count": 586,
   "metadata": {},
   "outputs": [],
   "source": [
    "imput_matrix = [list(map(lambda x: int(np.ceil(x)), row)) for row in distance_matrix]"
   ]
  },
  {
   "cell_type": "code",
   "execution_count": 514,
   "metadata": {},
   "outputs": [
    {
     "name": "stdout",
     "output_type": "stream",
     "text": [
      "Wall time: 0 ns\n"
     ]
    }
   ],
   "source": [
    "%%time\n",
    "#n=int(input())\n",
    "n=50\n",
    "matrix=[]\n",
    "H=0\n",
    "PathLenght=0\n",
    "Str=[]\n",
    "Stb=[]\n",
    "res=[]\n",
    "result=[]\n",
    "StartMatrix=[]\n",
    "\n",
    "#Инициализируем массивы для сохранения индексов\n",
    "for i in range(n):\n",
    "    Str.append(i)\n",
    "    Stb.append(i)\n",
    "\n",
    "#Вводим матрицу\n",
    "#for i in range(n): matrix.append(list(map(int, input().split())))\n",
    "matrix = imput_matrix"
   ]
  },
  {
   "cell_type": "code",
   "execution_count": 515,
   "metadata": {},
   "outputs": [],
   "source": [
    "\t\n",
    "#Сохраняем изначальную матрицу\n",
    "for i in range(n):StartMatrix.append(matrix[i].copy())"
   ]
  },
  {
   "cell_type": "code",
   "execution_count": 516,
   "metadata": {},
   "outputs": [],
   "source": [
    "for i in range(n): matrix[i][i]=float('inf')"
   ]
  },
  {
   "cell_type": "code",
   "execution_count": 517,
   "metadata": {},
   "outputs": [],
   "source": [
    "while True:\n",
    "    #Редуцируем\n",
    "    #--------------------------------------\n",
    "    #Вычитаем минимальный элемент в строках\n",
    "    for i in range(len(matrix)):\n",
    "        temp=min(matrix[i])\n",
    "        H+=temp\n",
    "        for j in range(len(matrix)):\n",
    "            matrix[i][j]-=temp\n",
    "\n",
    "    #Вычитаем минимальный элемент в столбцах    \n",
    "    for i in range(len(matrix)):\n",
    "        temp = min(row[i] for row in matrix)\n",
    "        H+=temp\n",
    "        for j in range(len(matrix)):\n",
    "            matrix[j][i]-=temp\n",
    "    #--------------------------------------\n",
    "\t\n",
    "    #Оцениваем нулевые клетки и ищем нулевую клетку с максимальной оценкой\n",
    "    #--------------------------------------\n",
    "    NullMax=0\n",
    "    index1=0\n",
    "    index2=0\n",
    "    tmp=0\n",
    "    for i in range(len(matrix)):\n",
    "        for j in range(len(matrix)):\n",
    "            if matrix[i][j]==0:\n",
    "                tmp=Min(matrix[i],j)+Min((row[j] for row in matrix),i)\n",
    "                if tmp>=NullMax:\n",
    "                    NullMax=tmp\n",
    "                    index1=i\n",
    "                    index2=j\n",
    "    #--------------------------------------\n",
    "\n",
    "\t#Находим нужный нам путь, записываем его в res и удаляем все ненужное\n",
    "    res.append(Str[index1]+1)\n",
    "    res.append(Stb[index2]+1)\n",
    "\t\n",
    "    oldIndex1=Str[index1]\n",
    "    oldIndex2=Stb[index2]\n",
    "    if oldIndex2 in Str and oldIndex1 in Stb:\n",
    "        NewIndex1=Str.index(oldIndex2)\n",
    "        NewIndex2=Stb.index(oldIndex1)\n",
    "        matrix[NewIndex1][NewIndex2]=float('inf')\n",
    "    del Str[index1]\n",
    "    del Stb[index2]\n",
    "    matrix=Delete(matrix,index1,index2)\n",
    "    if len(matrix)==1:break"
   ]
  },
  {
   "cell_type": "code",
   "execution_count": 518,
   "metadata": {},
   "outputs": [
    {
     "data": {
      "text/plain": [
       "[44,\n",
       " 32,\n",
       " 20,\n",
       " 2,\n",
       " 9,\n",
       " 21,\n",
       " 36,\n",
       " 24,\n",
       " 22,\n",
       " 20,\n",
       " 49,\n",
       " 37,\n",
       " 43,\n",
       " 49,\n",
       " 37,\n",
       " 43,\n",
       " 41,\n",
       " 4,\n",
       " 5,\n",
       " 25,\n",
       " 16,\n",
       " 5,\n",
       " 2,\n",
       " 22,\n",
       " 50,\n",
       " 40,\n",
       " 40,\n",
       " 11,\n",
       " 11,\n",
       " 50,\n",
       " 48,\n",
       " 33,\n",
       " 24,\n",
       " 18,\n",
       " 23,\n",
       " 6,\n",
       " 6,\n",
       " 41,\n",
       " 47,\n",
       " 10,\n",
       " 10,\n",
       " 17,\n",
       " 3,\n",
       " 1,\n",
       " 1,\n",
       " 34,\n",
       " 15,\n",
       " 13,\n",
       " 25,\n",
       " 15,\n",
       " 46,\n",
       " 12,\n",
       " 45,\n",
       " 8,\n",
       " 32,\n",
       " 45,\n",
       " 33,\n",
       " 16,\n",
       " 13,\n",
       " 28,\n",
       " 28,\n",
       " 48,\n",
       " 8,\n",
       " 38,\n",
       " 12,\n",
       " 30,\n",
       " 38,\n",
       " 46,\n",
       " 30,\n",
       " 9,\n",
       " 42,\n",
       " 27,\n",
       " 39,\n",
       " 42,\n",
       " 21,\n",
       " 26,\n",
       " 19,\n",
       " 31,\n",
       " 29,\n",
       " 19,\n",
       " 31,\n",
       " 29,\n",
       " 26,\n",
       " 39,\n",
       " 4,\n",
       " 23,\n",
       " 18,\n",
       " 36,\n",
       " 34,\n",
       " 3,\n",
       " 17,\n",
       " 47,\n",
       " 27,\n",
       " 7,\n",
       " 14,\n",
       " 44,\n",
       " 35,\n",
       " 14]"
      ]
     },
     "execution_count": 518,
     "metadata": {},
     "output_type": "execute_result"
    }
   ],
   "source": [
    "res"
   ]
  },
  {
   "cell_type": "code",
   "execution_count": 425,
   "metadata": {},
   "outputs": [],
   "source": [
    "#Формируем порядок пути\n",
    "for i in range(0,len(res)-1,2):\n",
    "\tif res.count(res[i])<2:\n",
    "\t\tresult.append(res[i])\n",
    "\t\tresult.append(res[i+1])\n",
    "for i in range(0,len(res)-1,2):\n",
    "\tfor j in range(0,len(res)-1,2):\n",
    "\t\tif result[len(result)-1]==res[j]:\n",
    "\t\t\tresult.append(res[j])\n",
    "\t\t\tresult.append(res[j+1])\n",
    "print(\"----------------------------------\")\n",
    "print(result)"
   ]
  },
  {
   "cell_type": "code",
   "execution_count": 519,
   "metadata": {},
   "outputs": [
    {
     "name": "stdout",
     "output_type": "stream",
     "text": [
      "430\n",
      "----------------------------------\n"
     ]
    }
   ],
   "source": [
    "#Считаем длину пути\n",
    "for i in range(0,len(res)-1,2):\n",
    "    if i==len(res)-2:\n",
    "        PathLenght+=StartMatrix[res[i]-1][res[i+1]-1]\n",
    "        PathLenght+=StartMatrix[res[i+1]-1][res[0]-1]\n",
    "    else: PathLenght+=StartMatrix[res[i]-1][res[i+1]-1]\n",
    "print(PathLenght)\n",
    "print(\"----------------------------------\")"
   ]
  },
  {
   "cell_type": "markdown",
   "metadata": {},
   "source": [
    "# Алгоритм Литтла 2 версия"
   ]
  },
  {
   "cell_type": "code",
   "execution_count": 189,
   "metadata": {},
   "outputs": [],
   "source": [
    "import pandas as pd\n",
    "import numpy as np\n",
    "import random\n",
    "import matplotlib.pyplot as plt\n",
    "import networkx as nx\n",
    "\n",
    "import sys\n",
    "if not sys.warnoptions:\n",
    "    import warnings\n",
    "    warnings.simplefilter(\"ignore\")\n",
    "\n",
    "pd.set_option('display.max_rows', 500)\n",
    "pd.set_option('display.max_columns', 500)\n",
    "pd.set_option('display.width', 1000)\n",
    "#------------------------------------------------------------------------------------\n",
    "def distance(x1, y1, x2, y2):\n",
    "    return ((x2 - x1) ** 2 + (y2 - y1) ** 2) ** 0.5\n",
    "#------------------------------------------------------------------------------------\n",
    "def in_deep_matrix(p, y, x):\n",
    "    # Возвращает новую матрицу меньшего размера, за вычитом строки и столбца\n",
    "    return p.drop([y], axis = 0).drop([x], axis = 1)\n",
    "#------------------------------------------------------------------------------------\n",
    "def reduction_matrix(p):\n",
    "    # Производим редуцирование матрицы, возвращаем нижнюю границу\n",
    "    bottom_line = 0\n",
    "    \n",
    "    # Находим минимум по каждой строке и вычитаем его\n",
    "    for index, row in p.iterrows():\n",
    "        min = row.min()      \n",
    "        if np.isinf(min):\n",
    "            return np.inf        \n",
    "        bottom_line += min\n",
    "        for key, value in row.iteritems():\n",
    "             p[key][index] -= min\n",
    "\n",
    "    # Находим минимум по каждому столбцу и вычитаем его\n",
    "    for key, value in p.iteritems(): \n",
    "        min = value.min()\n",
    "        if np.isinf(min):\n",
    "            return np.inf     \n",
    "        bottom_line += min\n",
    "        for index, row in value.iteritems():\n",
    "            p[key][index] -= min\n",
    "\n",
    "    return bottom_line\n",
    "#------------------------------------------------------------------------------------\n",
    "def partition_matrix(p):\n",
    "    # Ищем элемент для разбиения матрицы на m1 и m2\n",
    "    # Для этого производим оценку нулевых элементов матрицы\n",
    "    max_sum = 0\n",
    "    index_i = None\n",
    "    index_j = None\n",
    "    for index, row in p.iterrows():\n",
    "        for key, value in p.iteritems():\n",
    "            if p[key][index] == 0:\n",
    "                min_i = np.inf\n",
    "                min_j = np.inf\n",
    "\n",
    "                for k, v in p[key].items():  # по столбецу\n",
    "                    if k != index and v < min_i:\n",
    "                        min_i = v\n",
    "\n",
    "                for k, v in p.loc[index].items():\n",
    "                    if k != key and v < min_j:\n",
    "                        min_j = v\n",
    "                        \n",
    "                l = min_i + min_j\n",
    "                if l > max_sum:\n",
    "                    max_sum = l\n",
    "                    index_i = index\n",
    "                    index_j = key\n",
    "                \n",
    "    return [index_i, index_j, max_sum]\n",
    "#------------------------------------------------------------------------------------\n",
    "def reverse_index(l, i, j):\n",
    "    # Находим обрытный индекс для матрицы    \n",
    "    def in_dict(d, v):\n",
    "        while v in d:\n",
    "            v = d[v]\n",
    "        return v\n",
    "    \n",
    "    ln = len(l)\n",
    "    d1 = {l[k][0]: l[k][1] for k in range(0, ln, 1)}\n",
    "    d2 = {l[k][1]: l[k][0] for k in range(0, ln, 1)}\n",
    "    return [in_dict(d1, i), in_dict(d2, j)]\n",
    "\n",
    "#------------------------------------------------------------------------------------\n",
    "def evaluation_matrix(p, res, bottom_line):\n",
    "    # Оценка матрицы, поиск решения\n",
    "    if len(p) == 1:      \n",
    "        res['steps'] += 1\n",
    "        bottom_line += p.iat[0, 0] \n",
    "\n",
    "        # Если текущее решение лучше, запоминаем его\n",
    "        if bottom_line < res['global_min']:\n",
    "            res['global_min'] = bottom_line\n",
    "            res['local_result'].append([p.index[0], p.columns[0]])       \n",
    "            res['best_result'] = res['local_result'].copy()\n",
    "            print('Решение лучше:', bottom_line, res['best_result'], 'шаг: ', res['steps'])         \n",
    "        return\n",
    "    \n",
    "    # Производим редуцирование матрицы, возвращаем минимальную нижнюю границу\n",
    "    bottom_line += reduction_matrix(p)\n",
    "    if np.isinf(bottom_line):\n",
    "        return\n",
    "    \n",
    "    max_sum = 0\n",
    "    while True:\n",
    "        res['steps'] += 1\n",
    "        # Находим элемент для разбиения на подмножества m1 и m2\n",
    "        i, j, max_sum = partition_matrix(p) \n",
    "        # Больше нет элементов для разбиения\n",
    "        if i is None:\n",
    "            return\n",
    "\n",
    "        v_len = len(res['local_result'])\n",
    "        # Рассматриваем m1 (соглашаемся на разбиение по элементу)\n",
    "        if bottom_line < res['global_min']:\n",
    "            res['local_result'].append([i, j])\n",
    "            p1 = in_deep_matrix(p, i, j)\n",
    "            # Вычёркиваем обратный элемент только для матрицы большей чем 2х2, чтоб не получить inf\n",
    "            if len(p1) > 2: \n",
    "                i_reverse, j_reverse = reverse_index(res['local_result'], i, j)         \n",
    "                p1[j_reverse][i_reverse] = np.inf\n",
    "            evaluation_matrix(p1, res, bottom_line)\n",
    "\n",
    "        # Рассматриваем m2 \n",
    "        if res['global_min'] < bottom_line + max_sum:\n",
    "            return\n",
    "        p[j][i] = np.inf  # Исключаем не выбранный элемент\n",
    "        res['local_result'] = res['local_result'][:v_len]  # Обрезаем список пути\n",
    "        \n",
    "#------------------------------------------------------------------------------------      \n",
    "def return_res(res):\n",
    "    l = res['best_result']\n",
    "    if l:\n",
    "        d = {l[k][0]: l[k][1] for k in range(len(l))}\n",
    "        li =[]\n",
    "        a = l[0][0]\n",
    "        for v in range(len(l)):\n",
    "            li.append(a)\n",
    "            a = d[a]\n",
    "        return li\n",
    "    else:\n",
    "        return []\n",
    "#------------------------------------------------------------------------------------\n"
   ]
  },
  {
   "cell_type": "code",
   "execution_count": 429,
   "metadata": {},
   "outputs": [],
   "source": [
    "points = dict_atm\n",
    "#input_matrix = distance_matrix "
   ]
  },
  {
   "cell_type": "code",
   "execution_count": 431,
   "metadata": {},
   "outputs": [],
   "source": [
    "v1 = np.array(res_df[['start_point_id', 'end_point_id', 'car_distance_min']])"
   ]
  },
  {
   "cell_type": "code",
   "execution_count": 584,
   "metadata": {},
   "outputs": [],
   "source": [
    "distance_matrix_df = np.ceil(distance_matrix_df)"
   ]
  },
  {
   "cell_type": "code",
   "execution_count": 525,
   "metadata": {},
   "outputs": [
    {
     "name": "stdout",
     "output_type": "stream",
     "text": [
      "Инициализация массива решений\n",
      "Запуск нахождения решения\n"
     ]
    },
    {
     "ename": "KeyboardInterrupt",
     "evalue": "",
     "output_type": "error",
     "traceback": [
      "\u001b[1;31m---------------------------------------------------------------------------\u001b[0m",
      "\u001b[1;31mKeyboardInterrupt\u001b[0m                         Traceback (most recent call last)",
      "\u001b[1;32m<ipython-input-525-ba0dc38a89d0>\u001b[0m in \u001b[0;36m<module>\u001b[1;34m\u001b[0m\n\u001b[0;32m     11\u001b[0m \u001b[0mres\u001b[0m \u001b[1;33m=\u001b[0m \u001b[1;33m{\u001b[0m\u001b[1;34m'global_min'\u001b[0m\u001b[1;33m:\u001b[0m\u001b[0mnp\u001b[0m\u001b[1;33m.\u001b[0m\u001b[0minf\u001b[0m\u001b[1;33m,\u001b[0m \u001b[1;34m'best_result'\u001b[0m\u001b[1;33m:\u001b[0m \u001b[1;33m[\u001b[0m\u001b[1;33m]\u001b[0m\u001b[1;33m,\u001b[0m \u001b[1;34m'local_result'\u001b[0m\u001b[1;33m:\u001b[0m\u001b[1;33m[\u001b[0m\u001b[1;33m]\u001b[0m\u001b[1;33m,\u001b[0m \u001b[1;34m'steps'\u001b[0m\u001b[1;33m:\u001b[0m\u001b[1;36m0\u001b[0m\u001b[1;33m}\u001b[0m\u001b[1;33m\u001b[0m\u001b[1;33m\u001b[0m\u001b[0m\n\u001b[0;32m     12\u001b[0m \u001b[0mprint\u001b[0m\u001b[1;33m(\u001b[0m\u001b[1;34m'Запуск нахождения решения'\u001b[0m\u001b[1;33m)\u001b[0m\u001b[1;33m\u001b[0m\u001b[1;33m\u001b[0m\u001b[0m\n\u001b[1;32m---> 13\u001b[1;33m \u001b[0mevaluation_matrix\u001b[0m\u001b[1;33m(\u001b[0m\u001b[0mf1\u001b[0m\u001b[1;33m,\u001b[0m \u001b[0mres\u001b[0m\u001b[1;33m,\u001b[0m \u001b[1;36m0\u001b[0m\u001b[1;33m)\u001b[0m\u001b[1;33m\u001b[0m\u001b[1;33m\u001b[0m\u001b[0m\n\u001b[0m\u001b[0;32m     14\u001b[0m \u001b[1;33m\u001b[0m\u001b[0m\n\u001b[0;32m     15\u001b[0m \u001b[0mprint\u001b[0m\u001b[1;33m(\u001b[0m\u001b[1;34m'Результат:'\u001b[0m\u001b[1;33m,\u001b[0m \u001b[0mres\u001b[0m\u001b[1;33m[\u001b[0m\u001b[1;34m'global_min'\u001b[0m\u001b[1;33m]\u001b[0m\u001b[1;33m,\u001b[0m \u001b[0mreturn_res\u001b[0m\u001b[1;33m(\u001b[0m\u001b[0mres\u001b[0m\u001b[1;33m)\u001b[0m\u001b[1;33m,\u001b[0m \u001b[1;34m'всего шагов:'\u001b[0m\u001b[1;33m,\u001b[0m \u001b[0mres\u001b[0m\u001b[1;33m[\u001b[0m\u001b[1;34m'steps'\u001b[0m\u001b[1;33m]\u001b[0m\u001b[1;33m)\u001b[0m\u001b[1;33m\u001b[0m\u001b[1;33m\u001b[0m\u001b[0m\n",
      "\u001b[1;32m<ipython-input-189-1b9cca0d46ed>\u001b[0m in \u001b[0;36mevaluation_matrix\u001b[1;34m(p, res, bottom_line)\u001b[0m\n\u001b[0;32m    121\u001b[0m             \u001b[1;31m# Вычёркиваем обратный элемент только для матрицы большей чем 2х2, чтоб не получить inf\u001b[0m\u001b[1;33m\u001b[0m\u001b[1;33m\u001b[0m\u001b[1;33m\u001b[0m\u001b[0m\n\u001b[0;32m    122\u001b[0m             \u001b[1;32mif\u001b[0m \u001b[0mlen\u001b[0m\u001b[1;33m(\u001b[0m\u001b[0mp1\u001b[0m\u001b[1;33m)\u001b[0m \u001b[1;33m>\u001b[0m \u001b[1;36m2\u001b[0m\u001b[1;33m:\u001b[0m\u001b[1;33m\u001b[0m\u001b[1;33m\u001b[0m\u001b[0m\n\u001b[1;32m--> 123\u001b[1;33m                 \u001b[0mi_reverse\u001b[0m\u001b[1;33m,\u001b[0m \u001b[0mj_reverse\u001b[0m \u001b[1;33m=\u001b[0m \u001b[0mreverse_index\u001b[0m\u001b[1;33m(\u001b[0m\u001b[0mres\u001b[0m\u001b[1;33m[\u001b[0m\u001b[1;34m'local_result'\u001b[0m\u001b[1;33m]\u001b[0m\u001b[1;33m,\u001b[0m \u001b[0mi\u001b[0m\u001b[1;33m,\u001b[0m \u001b[0mj\u001b[0m\u001b[1;33m)\u001b[0m\u001b[1;33m\u001b[0m\u001b[1;33m\u001b[0m\u001b[0m\n\u001b[0m\u001b[0;32m    124\u001b[0m                 \u001b[0mp1\u001b[0m\u001b[1;33m[\u001b[0m\u001b[0mj_reverse\u001b[0m\u001b[1;33m]\u001b[0m\u001b[1;33m[\u001b[0m\u001b[0mi_reverse\u001b[0m\u001b[1;33m]\u001b[0m \u001b[1;33m=\u001b[0m \u001b[0mnp\u001b[0m\u001b[1;33m.\u001b[0m\u001b[0minf\u001b[0m\u001b[1;33m\u001b[0m\u001b[1;33m\u001b[0m\u001b[0m\n\u001b[0;32m    125\u001b[0m             \u001b[0mevaluation_matrix\u001b[0m\u001b[1;33m(\u001b[0m\u001b[0mp1\u001b[0m\u001b[1;33m,\u001b[0m \u001b[0mres\u001b[0m\u001b[1;33m,\u001b[0m \u001b[0mbottom_line\u001b[0m\u001b[1;33m)\u001b[0m\u001b[1;33m\u001b[0m\u001b[1;33m\u001b[0m\u001b[0m\n",
      "\u001b[1;32m<ipython-input-189-1b9cca0d46ed>\u001b[0m in \u001b[0;36mreverse_index\u001b[1;34m(l, i, j)\u001b[0m\n\u001b[0;32m     83\u001b[0m     \u001b[0md1\u001b[0m \u001b[1;33m=\u001b[0m \u001b[1;33m{\u001b[0m\u001b[0ml\u001b[0m\u001b[1;33m[\u001b[0m\u001b[0mk\u001b[0m\u001b[1;33m]\u001b[0m\u001b[1;33m[\u001b[0m\u001b[1;36m0\u001b[0m\u001b[1;33m]\u001b[0m\u001b[1;33m:\u001b[0m \u001b[0ml\u001b[0m\u001b[1;33m[\u001b[0m\u001b[0mk\u001b[0m\u001b[1;33m]\u001b[0m\u001b[1;33m[\u001b[0m\u001b[1;36m1\u001b[0m\u001b[1;33m]\u001b[0m \u001b[1;32mfor\u001b[0m \u001b[0mk\u001b[0m \u001b[1;32min\u001b[0m \u001b[0mrange\u001b[0m\u001b[1;33m(\u001b[0m\u001b[1;36m0\u001b[0m\u001b[1;33m,\u001b[0m \u001b[0mln\u001b[0m\u001b[1;33m,\u001b[0m \u001b[1;36m1\u001b[0m\u001b[1;33m)\u001b[0m\u001b[1;33m}\u001b[0m\u001b[1;33m\u001b[0m\u001b[1;33m\u001b[0m\u001b[0m\n\u001b[0;32m     84\u001b[0m     \u001b[0md2\u001b[0m \u001b[1;33m=\u001b[0m \u001b[1;33m{\u001b[0m\u001b[0ml\u001b[0m\u001b[1;33m[\u001b[0m\u001b[0mk\u001b[0m\u001b[1;33m]\u001b[0m\u001b[1;33m[\u001b[0m\u001b[1;36m1\u001b[0m\u001b[1;33m]\u001b[0m\u001b[1;33m:\u001b[0m \u001b[0ml\u001b[0m\u001b[1;33m[\u001b[0m\u001b[0mk\u001b[0m\u001b[1;33m]\u001b[0m\u001b[1;33m[\u001b[0m\u001b[1;36m0\u001b[0m\u001b[1;33m]\u001b[0m \u001b[1;32mfor\u001b[0m \u001b[0mk\u001b[0m \u001b[1;32min\u001b[0m \u001b[0mrange\u001b[0m\u001b[1;33m(\u001b[0m\u001b[1;36m0\u001b[0m\u001b[1;33m,\u001b[0m \u001b[0mln\u001b[0m\u001b[1;33m,\u001b[0m \u001b[1;36m1\u001b[0m\u001b[1;33m)\u001b[0m\u001b[1;33m}\u001b[0m\u001b[1;33m\u001b[0m\u001b[1;33m\u001b[0m\u001b[0m\n\u001b[1;32m---> 85\u001b[1;33m     \u001b[1;32mreturn\u001b[0m \u001b[1;33m[\u001b[0m\u001b[0min_dict\u001b[0m\u001b[1;33m(\u001b[0m\u001b[0md1\u001b[0m\u001b[1;33m,\u001b[0m \u001b[0mi\u001b[0m\u001b[1;33m)\u001b[0m\u001b[1;33m,\u001b[0m \u001b[0min_dict\u001b[0m\u001b[1;33m(\u001b[0m\u001b[0md2\u001b[0m\u001b[1;33m,\u001b[0m \u001b[0mj\u001b[0m\u001b[1;33m)\u001b[0m\u001b[1;33m]\u001b[0m\u001b[1;33m\u001b[0m\u001b[1;33m\u001b[0m\u001b[0m\n\u001b[0m\u001b[0;32m     86\u001b[0m \u001b[1;33m\u001b[0m\u001b[0m\n\u001b[0;32m     87\u001b[0m \u001b[1;31m#------------------------------------------------------------------------------------\u001b[0m\u001b[1;33m\u001b[0m\u001b[1;33m\u001b[0m\u001b[1;33m\u001b[0m\u001b[0m\n",
      "\u001b[1;32m<ipython-input-189-1b9cca0d46ed>\u001b[0m in \u001b[0;36min_dict\u001b[1;34m(d, v)\u001b[0m\n\u001b[0;32m     77\u001b[0m     \u001b[1;32mdef\u001b[0m \u001b[0min_dict\u001b[0m\u001b[1;33m(\u001b[0m\u001b[0md\u001b[0m\u001b[1;33m,\u001b[0m \u001b[0mv\u001b[0m\u001b[1;33m)\u001b[0m\u001b[1;33m:\u001b[0m\u001b[1;33m\u001b[0m\u001b[1;33m\u001b[0m\u001b[0m\n\u001b[0;32m     78\u001b[0m         \u001b[1;32mwhile\u001b[0m \u001b[0mv\u001b[0m \u001b[1;32min\u001b[0m \u001b[0md\u001b[0m\u001b[1;33m:\u001b[0m\u001b[1;33m\u001b[0m\u001b[1;33m\u001b[0m\u001b[0m\n\u001b[1;32m---> 79\u001b[1;33m             \u001b[0mv\u001b[0m \u001b[1;33m=\u001b[0m \u001b[0md\u001b[0m\u001b[1;33m[\u001b[0m\u001b[0mv\u001b[0m\u001b[1;33m]\u001b[0m\u001b[1;33m\u001b[0m\u001b[1;33m\u001b[0m\u001b[0m\n\u001b[0m\u001b[0;32m     80\u001b[0m         \u001b[1;32mreturn\u001b[0m \u001b[0mv\u001b[0m\u001b[1;33m\u001b[0m\u001b[1;33m\u001b[0m\u001b[0m\n\u001b[0;32m     81\u001b[0m \u001b[1;33m\u001b[0m\u001b[0m\n",
      "\u001b[1;31mKeyboardInterrupt\u001b[0m: "
     ]
    }
   ],
   "source": [
    "graph = nx.Graph()\n",
    "graph.add_nodes_from(points) \n",
    "\n",
    "# Добавляем дуги в граф\n",
    "for i in v1:\n",
    "    graph.add_edge(i[0], i[1], weight=i[2])\n",
    "\n",
    "f1 = distance_matrix_df\n",
    "\n",
    "print('Инициализация массива решений')\n",
    "res = {'global_min':np.inf, 'best_result': [], 'local_result':[], 'steps':0}\n",
    "print('Запуск нахождения решения')\n",
    "evaluation_matrix(f1, res, 0)\n",
    "\n",
    "print('Результат:', res['global_min'], return_res(res), 'всего шагов:', res['steps'])\n"
   ]
  },
  {
   "cell_type": "code",
   "execution_count": null,
   "metadata": {},
   "outputs": [],
   "source": [
    "plt.figure(figsize=(6, 6))\n",
    "# Рисуем всё древо\n",
    "nx.draw(graph, points, width=1, edge_color=\"#C0C0C0\")\n",
    "# Рисуем оптимальный путь\n",
    "nx.draw_networkx(graph, points, with_labels=True, edgelist=res['best_result'], arrows=True, edge_color=\"blue\", width=5)"
   ]
  },
  {
   "cell_type": "markdown",
   "metadata": {},
   "source": [
    "# Генетический алгоритм"
   ]
  },
  {
   "cell_type": "code",
   "execution_count": 289,
   "metadata": {},
   "outputs": [],
   "source": [
    "def unicode_to_num(x):\n",
    "    return ord(x) - 48"
   ]
  },
  {
   "cell_type": "code",
   "execution_count": 350,
   "metadata": {},
   "outputs": [],
   "source": [
    "# Python3 implementation of the above approach\n",
    "from random import randint\n",
    " \n",
    "INT_MAX = 1000\n",
    "# Number of cities in TSP\n",
    "V = 50\n",
    " \n",
    "# Starting Node Value\n",
    "START = 0\n",
    " \n",
    "# Initial population size for the algorithm\n",
    "POP_SIZE = 1000000\n",
    " \n",
    "# Structure of a GNOME\n",
    "# defines the path traversed\n",
    "# by the salesman while the fitness value\n",
    "# of the path is stored in an integer\n",
    " \n",
    " \n",
    "class individual:\n",
    "    def __init__(self) -> None:\n",
    "        self.gnome = \"\"\n",
    "        self.fitness = 0\n",
    " \n",
    "    def __lt__(self, other):\n",
    "        return self.fitness < other.fitness\n",
    " \n",
    "    def __gt__(self, other):\n",
    "        return self.fitness > other.fitness\n",
    " \n",
    " \n",
    "# Function to return a random number\n",
    "# from start and end\n",
    "def rand_num(start, end):\n",
    "    return randint(start, end-1)\n",
    " \n",
    " \n",
    "# Function to check if the character\n",
    "# has already occurred in the string\n",
    "def repeat(s, ch):\n",
    "    for i in range(len(s)):\n",
    "        if s[i] == ch:\n",
    "            return True\n",
    " \n",
    "    return False\n",
    " \n",
    " \n",
    "# Function to return a mutated GNOME\n",
    "# Mutated GNOME is a string\n",
    "# with a random interchange\n",
    "# of two genes to create variation in species\n",
    "def mutatedGene(gnome):\n",
    "    gnome = list(gnome)\n",
    "    while True:\n",
    "        r = rand_num(1, V)\n",
    "        r1 = rand_num(1, V)\n",
    "        if r1 != r:\n",
    "            temp = gnome[r]\n",
    "            gnome[r] = gnome[r1]\n",
    "            gnome[r1] = temp\n",
    "            break\n",
    "    return ''.join(gnome)\n",
    " \n",
    " \n",
    "# Function to return a valid GNOME string\n",
    "# required to create the population\n",
    "def create_gnome():\n",
    "    gnome = \"0\"\n",
    "    while True:\n",
    "        if len(gnome) == V:\n",
    "            gnome += gnome[0]\n",
    "            break\n",
    " \n",
    "        temp = rand_num(1, V)\n",
    "        if not repeat(gnome, chr(temp + 48)):\n",
    "            gnome += chr(temp + 48)\n",
    " \n",
    "    return gnome\n",
    " \n",
    " \n",
    "# Function to return the fitness value of a gnome.\n",
    "# The fitness value is the path length\n",
    "# of the path represented by the GNOME.\n",
    "def cal_fitness(gnome):\n",
    "#    mp = [\n",
    "#        [0, 2, INT_MAX, 12, 5],\n",
    "#        [2, 0, 4, 8, INT_MAX],\n",
    "#        [INT_MAX, 4, 0, 3, 3],\n",
    "#        [12, 8, 3, 0, 10],\n",
    "#        [5, INT_MAX, 3, 10, 0],\n",
    "#    ]\n",
    "    mp = distance_matrix\n",
    "    f = 0\n",
    "    for i in range(len(gnome) - 1):\n",
    "        if mp[ord(gnome[i]) - 48][ord(gnome[i + 1]) - 48] == INT_MAX:\n",
    "            return INT_MAX\n",
    "        f += mp[ord(gnome[i]) - 48][ord(gnome[i + 1]) - 48]\n",
    " \n",
    "    return f\n",
    " \n",
    " \n",
    "# Function to return the updated value\n",
    "# of the cooling element.\n",
    "def cooldown(temp):\n",
    "    return (90 * temp) / 100\n",
    " \n",
    " \n",
    "# Comparator for GNOME struct.\n",
    "# def lessthan(individual t1,\n",
    "#               individual t2)\n",
    "# :\n",
    "#     return t1.fitness < t2.fitness\n",
    " \n",
    " \n",
    "# Utility function for TSP problem.\n",
    "def TSPUtil(mp):\n",
    "    # Generation Number\n",
    "    gen = 1\n",
    "    # Number of Gene Iterations\n",
    "    gen_thres = 5\n",
    " \n",
    "    population = []\n",
    "    temp = individual()\n",
    " \n",
    "    # Populating the GNOME pool.\n",
    "    for i in range(POP_SIZE):\n",
    "        temp.gnome = create_gnome()\n",
    "        temp.fitness = cal_fitness(temp.gnome)\n",
    "        population.append(temp)\n",
    " \n",
    "#    print(\"\\nInitial population: \\nGNOME     FITNESS VALUE\\n\")\n",
    "#    for i in range(POP_SIZE):\n",
    "#        print(population[i].gnome, population[i].fitness)\n",
    "#    print()\n",
    " \n",
    "    found = False\n",
    "    temperature = 1000\n",
    " \n",
    "    # Iteration to perform\n",
    "    # population crossing and gene mutation.\n",
    "    while temperature > 100 and gen <= gen_thres:\n",
    "        population.sort()\n",
    "        print(\"\\nCurrent temp: \", temperature)\n",
    "        new_population = []\n",
    " \n",
    "        for i in range(POP_SIZE):\n",
    "            p1 = population[i]\n",
    " \n",
    "            while True:\n",
    "                new_g = mutatedGene(p1.gnome)\n",
    "                new_gnome = individual()\n",
    "                new_gnome.gnome = new_g\n",
    "                new_gnome.fitness = cal_fitness(new_gnome.gnome)\n",
    " \n",
    "                if new_gnome.fitness <= population[i].fitness:\n",
    "                    new_population.append(new_gnome)\n",
    "                    break\n",
    " \n",
    "                else:\n",
    " \n",
    "                    # Accepting the rejected children at\n",
    "                    # a possible probability above threshold.\n",
    "                    prob = pow(\n",
    "                        2.7,\n",
    "                        -1\n",
    "                        * (\n",
    "                            (float)(new_gnome.fitness - population[i].fitness)\n",
    "                            / temperature\n",
    "                        ),\n",
    "                    )\n",
    "                    if prob > 0.5:\n",
    "                        new_population.append(new_gnome)\n",
    "                        break\n",
    " \n",
    "        temperature = cooldown(temperature)\n",
    "        population = new_population\n",
    "#        print(\"Generation\", gen)\n",
    "#        print(\"GNOME     FITNESS VALUE\")\n",
    "# \n",
    "#        for i in range(POP_SIZE):\n",
    "#            print(population[i].gnome, population[i].fitness)\n",
    "        gen += 1\n",
    "        \n",
    "        return population"
   ]
  },
  {
   "cell_type": "code",
   "execution_count": 351,
   "metadata": {},
   "outputs": [
    {
     "name": "stdout",
     "output_type": "stream",
     "text": [
      "\n",
      "Current temp:  1000\n",
      "Wall time: 9min 36s\n"
     ]
    }
   ],
   "source": [
    "%%time\n",
    "if __name__ == \"__main__\":\n",
    "    \n",
    "    mp = distance_matrix\n",
    "    gen_res = TSPUtil(mp)"
   ]
  },
  {
   "cell_type": "code",
   "execution_count": 352,
   "metadata": {},
   "outputs": [],
   "source": [
    "res_gen_dict = {}\n",
    "for i in range(POP_SIZE):\n",
    "    res_gen_dict[gen_res[i].fitness] = [unicode_to_num(x) for x in gen_res[i].gnome]"
   ]
  },
  {
   "cell_type": "code",
   "execution_count": 355,
   "metadata": {},
   "outputs": [
    {
     "data": {
      "text/plain": [
       "1026.9699999999998"
      ]
     },
     "execution_count": 355,
     "metadata": {},
     "output_type": "execute_result"
    }
   ],
   "source": [
    "min(res_gen_dict.keys())"
   ]
  },
  {
   "cell_type": "code",
   "execution_count": 632,
   "metadata": {},
   "outputs": [
    {
     "name": "stdout",
     "output_type": "stream",
     "text": [
      "Оптимальный путь:[6, 46, 9, 16, 3, 35, 23, 17, 19, 1, 14, 24, 15, 4, 21, 39, 49, 10, 42, 22, 5, 2, 0, 33, 30, 18, 25, 28, 20, 8, 26, 38, 41, 13, 34, 43, 31, 7, 44, 37, 11, 45, 29, 47, 32, 27, 12, 40, 36, 48]\n",
      "Оптимальное значение497.0\n"
     ]
    },
    {
     "data": {
      "image/png": "[encoded data removed]",
      "text/plain": [
       "<Figure size 1440x720 with 1 Axes>"
      ]
     },
     "metadata": {
      "needs_background": "light"
     },
     "output_type": "display_data"
    }
   ],
   "source": [
    "import numpy as np\n",
    "import random as rd\n",
    "import matplotlib.pyplot as plt\n",
    "\n",
    "\"\" \"Вычислить общую длину пути, соответствующего хромосоме\" \"\"\n",
    "def countlen(chromo, distance, cityNum):\n",
    "    lenth = 0\n",
    "    for iii in range(cityNum - 1):\n",
    "        lenth += distance[chromo[iii]][chromo[iii + 1]]\n",
    "    lenth += distance[chromo[cityNum - 1]][chromo[0]]  # Плюс расстояние до начальной точки\n",
    "    return lenth\n",
    "\n",
    "\"\" \"Создать начальную популяцию\" \"\"\n",
    "def crepopula(cityNum, M):\n",
    "    popula = []  # Численность населения\n",
    "    for ii in range(M):\n",
    "        chromo = np.random.permutation(cityNum).tolist()   # Хромосома\n",
    "        popula.append(chromo)\n",
    "    return popula\n",
    "\n",
    "\"\" \"Рассчитайте совокупную вероятность каждого человека в популяции\" \"\"\n",
    "def countprobabily(popula,distance,cityNum):\n",
    "    evall = []\n",
    "    for chromo in popula:\n",
    "        eval = max(30000 - countlen(chromo, distance,cityNum),0)  # Фитнес-функция\n",
    "        evall.append(eval)\n",
    "    seval = sum(evall)\n",
    "    probabil = evall/seval   # Единственная вероятность\n",
    "    probabily = probabil.copy()\n",
    "    for i in range(1,len(popula)):\n",
    "        probabily[i]=probabily[i]+probabily[i-1]  # Кумулятивная вероятность\n",
    "    return probabily\n",
    "\n",
    "\"\" \"Рулетка отбирает потомство особей\" \"\"\n",
    "def lpd(popula,probabily,M):\n",
    "    newpopula=[]\n",
    "    for i in range(M):\n",
    "        proba = rd.random()\n",
    "        for ii in range(len(probabily)):\n",
    "            if probabily[ii] >= proba:\n",
    "                selechromo = popula[ii]\n",
    "                break\n",
    "        newpopula.append(selechromo)\n",
    "    return newpopula\n",
    "\n",
    "\"\" \"Эвристическое пересечение: метод ближайшего соседа\" \"\"\n",
    "def crossover_nn(father1, father2,cityNum,distance):\n",
    "    father_1 = father1.copy()\n",
    "    father_2 = father2.copy()\n",
    "    city0 = rd.randint(0, cityNum-1)  # Случайно выбрать город в качестве отправной точки\n",
    "    son = [city0]\n",
    "    while len(son) < len(father1):\n",
    "        ord1 = father_1.index(city0)\n",
    "        ord2 = father_2.index(city0)\n",
    "        if ord1 == len(father_1)-1 :\n",
    "            ord1 = -1\n",
    "        if ord2 == len(father_1)-1 :\n",
    "            ord2 = -1\n",
    "        city1 = father_1[ord1 + 1]\n",
    "        city2 = father_2[ord2 + 1]\n",
    "        father_1.remove(city0)\n",
    "        father_2.remove(city0)\n",
    "        if distance[city0][city1] <= distance[city0][city2]:\n",
    "            son.append(city1)\n",
    "            city0 = city1\n",
    "        else:\n",
    "            son.append(city2)\n",
    "            city0 = city2\n",
    "    return son\n",
    "\n",
    "\"\" \"Эвристическая вариация\" \"\"\n",
    "import itertools\n",
    "def variat2(father,cityNum,distance):\n",
    "    or1 = rd.randint(0, cityNum - 1) # Случайно создать 5 местоположений\n",
    "    or2 = rd.randint(0, cityNum - 1)\n",
    "    or3 = rd.randint(0, cityNum - 1)\n",
    "    or4 = rd.randint(0, cityNum - 1)\n",
    "    or5 = rd.randint(0, cityNum - 1)\n",
    "    nosame = list(set([or1, or2, or3, or4, or5]))\n",
    "    ords = list(itertools.permutations(nosame, len(nosame)))\n",
    "    sons = []               # Показать всех подчиненных представителей\n",
    "    sonn = father.copy()\n",
    "    for ord in ords:\n",
    "        for ii in range(len(nosame)):\n",
    "            sonn[nosame[ii]] = father[ord[ii]]\n",
    "        sons.append(sonn)\n",
    "    son_leng = []       # Рассчитать расстояние до всех детей\n",
    "    for sonn in sons:\n",
    "        leng = countlen(sonn, distance, cityNum)\n",
    "        son_leng.append(leng)\n",
    "    n = son_leng.index(min(son_leng))   # Выберите минимальное расстояние\n",
    "    return sons[n]\n",
    "\n",
    "\n",
    "def main():\n",
    "    M = 100  # Численность населения\n",
    "    cityNum = 50  # Количество городов, длина хромосомы\n",
    "    \"\" \"Координаты 52 городов\" \"\"\n",
    "#    cities = [[565, 575],[25, 185],[345, 750],[945, 685],[845, 655],[880, 660],[25, 230],[525, 1000],[580, 1175],\n",
    "#              [650, 1130],[1605, 620],[1220, 580],[1465, 200],[1530, 5],[845, 680],[725, 370],[145, 665],[415, 635],\n",
    "#              [510, 875],[560, 365],[300, 465],[520, 585],[480, 415],[835, 625],[975, 580],[1215, 245],[1320, 315],\n",
    "#              [1250, 400],[660, 180],[410, 250],[420, 555],[575, 665],[1150, 1160],[700, 580],[685, 595],[685, 610],\n",
    "#              [770, 610],[795, 645],[720, 635],[760, 650],[475, 960],[95, 260],[875, 920],[700, 500],[555, 815],\n",
    "#              [830, 485],[1170, 65],[830, 610],[605, 625],[595, 360],[1340, 725],[1740, 245]]\n",
    "    cities = test_short_lst\n",
    "    \"\" \"Создать матрицу расстояний\" \"\"\n",
    "#    distance = np.zeros([cityNum,cityNum])\n",
    "#    for i in range(cityNum):\n",
    "#        for j in range(cityNum):\n",
    "#            distance[i][j] = pow((pow(cities[i][0]-cities[j][0],2)+pow(cities[i][1]-cities[j][1],2)),0.5)\n",
    "    distance = distance_matrix.copy()\n",
    "\n",
    "    \"\" \"Инициализировать популяцию\" \"\"\n",
    "    popula = crepopula(cityNum, M)\n",
    "\n",
    "    for n in range(800):  # Циклов\n",
    "        \"\" \"Эволюция населения\" \"\"\n",
    "        pc = 0.8  # Скорость кроссовера\n",
    "        pv = 0.25  # Скорость мутации\n",
    "        son = []\n",
    "        ##пересекать\n",
    "        crossgroup = []\n",
    "        for i in range(M):\n",
    "            cpb = rd.random()\n",
    "            if cpb < pc:  # Меньше кросс-курса для пересечения\n",
    "                crossgroup.append(popula[i])\n",
    "        if len(crossgroup) % 2 == 1:  # Если нечетное\n",
    "            del crossgroup[-1]\n",
    "        if crossgroup != []:  # Эвристический кроссовер\n",
    "            for ii in range(0, len(crossgroup), 2):\n",
    "                sonc = crossover_nn(crossgroup[ii], crossgroup[ii + 1], cityNum, distance)\n",
    "                son.append(sonc)\n",
    "        ## Мутации\n",
    "        variatgroup = []\n",
    "        for j in range(M):\n",
    "            vpb = rd.random()\n",
    "            if vpb < pv:  # Мутация меньше скорости мутации\n",
    "                variatgroup.append(popula[j])\n",
    "\n",
    "        if variatgroup != []:\n",
    "            for vag in variatgroup:\n",
    "                sonv = variat2(vag, cityNum, distance)  # Эвристическая мутация\n",
    "                son.append(sonv)\n",
    "\n",
    "        \"\" \"Рассчитайте совокупную вероятность каждой хромосомы\" \"\"\n",
    "        populapuls = popula + son\n",
    "        probabily = countprobabily(populapuls, distance, cityNum)\n",
    "\n",
    "        \"\" \"Рулетка выбирает новый вид\" \"\"\n",
    "        popula = lpd(populapuls, probabily, M)\n",
    "\n",
    "    \"\" \"Выберите лучшую хромосому\" \"\"\n",
    "    opt_chr = popula[0]\n",
    "    opt_len = countlen(popula[0], distance, cityNum)\n",
    "    for chr in popula:\n",
    "        chrlen = countlen(chr, distance, cityNum)\n",
    "        if chrlen < opt_len:\n",
    "            opt_chr = chr\n",
    "            opt_len = chrlen\n",
    "    print('Оптимальный путь:' + str(opt_chr))\n",
    "    print('Оптимальное значение' + str(opt_len))\n",
    "\n",
    "    \"\" \"Нарисуйте карту\" \"\"\n",
    "    for cor in range(len(opt_chr)-1) :\n",
    "        x = [cities[opt_chr[cor]][0],cities[opt_chr[cor+1]][0]]\n",
    "        y = [cities[opt_chr[cor]][1],cities[opt_chr[cor+1]][1]]\n",
    "        plt.plot(x,y,\"b-\")\n",
    "    plt.show()\n",
    "\n",
    "if __name__ ==\"__main__\":\n",
    "    main()"
   ]
  },
  {
   "cell_type": "markdown",
   "metadata": {},
   "source": [
    "# Гугл"
   ]
  },
  {
   "cell_type": "code",
   "execution_count": 440,
   "metadata": {},
   "outputs": [
    {
     "name": "stdout",
     "output_type": "stream",
     "text": [
      "Requirement already satisfied: ortools in d:\\programs\\anaconda\\lib\\site-packages (9.6.2534)\n",
      "Requirement already satisfied: scipy>=1.10.0 in d:\\programs\\anaconda\\lib\\site-packages (from ortools) (1.10.1)\n",
      "Requirement already satisfied: numpy>=1.13.3 in d:\\programs\\anaconda\\lib\\site-packages (from ortools) (1.19.2)\n",
      "Requirement already satisfied: protobuf>=4.21.12 in d:\\programs\\anaconda\\lib\\site-packages (from ortools) (4.22.3)\n",
      "Requirement already satisfied: absl-py>=0.13 in d:\\programs\\anaconda\\lib\\site-packages (from ortools) (1.0.0)\n",
      "Requirement already satisfied: six in d:\\programs\\anaconda\\lib\\site-packages (from absl-py>=0.13->ortools) (1.15.0)\n"
     ]
    }
   ],
   "source": [
    "!pip install ortools --user"
   ]
  },
  {
   "cell_type": "code",
   "execution_count": 13,
   "metadata": {},
   "outputs": [],
   "source": [
    "from ortools.constraint_solver import routing_enums_pb2\n",
    "from ortools.constraint_solver import pywrapcp"
   ]
  },
  {
   "cell_type": "code",
   "execution_count": 14,
   "metadata": {},
   "outputs": [],
   "source": [
    "def create_data_model():\n",
    "    \"\"\"Stores the data for the problem.\"\"\"\n",
    "    data = {}\n",
    "    data['distance_matrix'] = imput_matrix\n",
    "#    data['demands'] = [0, 1, 1, 3, 6, 3, 6, 8, 8, 1, 2, 1, 2, 6, 6, 8, 8]\n",
    "#    data['vehicle_capacities'] = [15, 15, 15, 15]\n",
    "    data['num_vehicles'] = 2\n",
    "    data['depot'] = 0\n",
    "    return data\n"
   ]
  },
  {
   "cell_type": "code",
   "execution_count": 45,
   "metadata": {},
   "outputs": [],
   "source": [
    "import random"
   ]
  },
  {
   "cell_type": "code",
   "execution_count": 112,
   "metadata": {},
   "outputs": [],
   "source": [
    "rand_penalty = [random.randint(10,2000) for i in range(49)]"
   ]
  },
  {
   "cell_type": "code",
   "execution_count": 143,
   "metadata": {},
   "outputs": [],
   "source": [
    "rand_penalty = [100, 10000]*24 + [100]"
   ]
  },
  {
   "cell_type": "code",
   "execution_count": 147,
   "metadata": {},
   "outputs": [
    {
     "data": {
      "text/plain": [
       "49"
      ]
     },
     "execution_count": 147,
     "metadata": {},
     "output_type": "execute_result"
    }
   ],
   "source": [
    "len(rand_penalty)"
   ]
  },
  {
   "cell_type": "code",
   "execution_count": 148,
   "metadata": {},
   "outputs": [],
   "source": [
    "data = create_data_model()\n",
    "manager = pywrapcp.RoutingIndexManager(len(data['distance_matrix']),\n",
    "                                       data['num_vehicles'], data['depot'])\n",
    "routing = pywrapcp.RoutingModel(manager)"
   ]
  },
  {
   "cell_type": "code",
   "execution_count": 149,
   "metadata": {},
   "outputs": [],
   "source": [
    "def distance_callback(from_index, to_index):\n",
    "    \"\"\"Returns the distance between the two nodes.\"\"\"\n",
    "    # Convert from routing variable Index to distance matrix NodeIndex.\n",
    "    from_node = manager.IndexToNode(from_index)\n",
    "    to_node = manager.IndexToNode(to_index)\n",
    "    return data['distance_matrix'][from_node][to_node]\n",
    "\n",
    "transit_callback_index = routing.RegisterTransitCallback(distance_callback)"
   ]
  },
  {
   "cell_type": "code",
   "execution_count": 150,
   "metadata": {},
   "outputs": [],
   "source": [
    "routing.SetArcCostEvaluatorOfAllVehicles(transit_callback_index)"
   ]
  },
  {
   "cell_type": "code",
   "execution_count": 151,
   "metadata": {},
   "outputs": [],
   "source": [
    "dimension_name = 'Time'\n",
    "routing.AddDimension(\n",
    "    transit_callback_index,\n",
    "    15,  # no slack\n",
    "    200,  # vehicle maximum travel distance\n",
    "    False,  # start cumul to zero\n",
    "    dimension_name)\n",
    "distance_dimension = routing.GetDimensionOrDie(dimension_name)\n",
    "distance_dimension.SetGlobalSpanCostCoefficient(100)"
   ]
  },
  {
   "cell_type": "code",
   "execution_count": 152,
   "metadata": {},
   "outputs": [],
   "source": [
    "search_parameters = pywrapcp.DefaultRoutingSearchParameters()\n",
    "search_parameters.first_solution_strategy = (\n",
    "    routing_enums_pb2.FirstSolutionStrategy.PATH_CHEAPEST_ARC)\n",
    "#    routing_enums_pb2.FirstSolutionStrategy.SAVINGS)"
   ]
  },
  {
   "cell_type": "code",
   "execution_count": 153,
   "metadata": {},
   "outputs": [],
   "source": [
    "#search_parameters = pywrapcp.DefaultRoutingSearchParameters()\n",
    "search_parameters.local_search_metaheuristic = (\n",
    "#    routing_enums_pb2.LocalSearchMetaheuristic.GUIDED_LOCAL_SEARCH)\n",
    "    routing_enums_pb2.LocalSearchMetaheuristic.SIMULATED_ANNEALING)\n",
    "search_parameters.time_limit.seconds = 60\n",
    "#search_parameters.time_limit.seconds = 300\n",
    "search_parameters.log_search = True"
   ]
  },
  {
   "cell_type": "code",
   "execution_count": 155,
   "metadata": {},
   "outputs": [],
   "source": [
    "penalty = rand_penalty\n",
    "for node, p in zip(range(1, len(data['distance_matrix'])),penalty):\n",
    "    routing.AddDisjunction([manager.NodeToIndex(node)], p)"
   ]
  },
  {
   "cell_type": "code",
   "execution_count": 156,
   "metadata": {},
   "outputs": [],
   "source": [
    "def print_solution(data, manager, routing, solution):\n",
    "    \"\"\"Prints solution on console.\"\"\"\n",
    "    print(f'Objective: {solution.ObjectiveValue()}')\n",
    "    \n",
    "    # Display dropped nodes.\n",
    "    dropped_nodes = 'Dropped nodes:'\n",
    "    dropped_nodes_lst=[]\n",
    "    for node in range(routing.Size()):\n",
    "        if routing.IsStart(node) or routing.IsEnd(node):\n",
    "            continue\n",
    "        if solution.Value(routing.NextVar(node)) == node:\n",
    "            dropped_nodes += ' {}'.format(manager.IndexToNode(node))\n",
    "            dropped_nodes_lst.append(manager.IndexToNode(node))\n",
    "    print(dropped_nodes)\n",
    "    \n",
    "    max_route_distance = 0\n",
    "    for vehicle_id in range(data['num_vehicles']):\n",
    "        index = routing.Start(vehicle_id)\n",
    "        plan_output = 'Route for vehicle {}:\\n'.format(vehicle_id)\n",
    "        route_distance = 0\n",
    "        while not routing.IsEnd(index):\n",
    "            plan_output += ' {} -> '.format(manager.IndexToNode(index))\n",
    "            previous_index = index\n",
    "            index = solution.Value(routing.NextVar(index))\n",
    "            route_distance += routing.GetArcCostForVehicle(\n",
    "                previous_index, index, vehicle_id)\n",
    "        plan_output += '{}\\n'.format(manager.IndexToNode(index))\n",
    "        plan_output += 'Distance of the route: {}min\\n'.format(route_distance)\n",
    "        print(plan_output)\n",
    "        max_route_distance = max(route_distance, max_route_distance)\n",
    "    print('Maximum of the route distances: {}min'.format(max_route_distance))\n",
    "    return max_route_distance, dropped_nodes_lst"
   ]
  },
  {
   "cell_type": "code",
   "execution_count": 157,
   "metadata": {},
   "outputs": [
    {
     "name": "stdout",
     "output_type": "stream",
     "text": [
      "Objective: 19923\n",
      "Dropped nodes: 11 13 15 17 21 23 27 29 31 35 37 39 41 43 45 47 49\n",
      "Route for vehicle 0:\n",
      " 0 ->  33 ->  12 ->  4 ->  24 ->  14 ->  19 ->  1 ->  10 ->  36 ->  48 ->  42 ->  5 ->  22 ->  46 ->  9 -> 0\n",
      "Distance of the route: 161min\n",
      "\n",
      "Route for vehicle 1:\n",
      " 0 ->  26 ->  38 ->  28 ->  30 ->  18 ->  25 ->  32 ->  8 ->  20 ->  44 ->  7 ->  34 ->  6 ->  16 ->  40 ->  3 ->  2 -> 0\n",
      "Distance of the route: 162min\n",
      "\n",
      "Maximum of the route distances: 162min\n"
     ]
    }
   ],
   "source": [
    "solution = routing.SolveWithParameters(search_parameters)\n",
    "if solution:\n",
    "    a = print_solution(data, manager, routing, solution)"
   ]
  },
  {
   "cell_type": "code",
   "execution_count": 159,
   "metadata": {},
   "outputs": [
    {
     "data": {
      "text/plain": [
       "[11, 13, 15, 17, 21, 23, 27, 29, 31, 35, 37, 39, 41, 43, 45, 47, 49]"
      ]
     },
     "execution_count": 159,
     "metadata": {},
     "output_type": "execute_result"
    }
   ],
   "source": [
    "a[1]"
   ]
  },
  {
   "cell_type": "code",
   "execution_count": 163,
   "metadata": {},
   "outputs": [
    {
     "name": "stdout",
     "output_type": "stream",
     "text": [
      "100\n",
      "100\n",
      "100\n",
      "100\n",
      "100\n",
      "100\n",
      "100\n",
      "100\n",
      "100\n",
      "100\n",
      "100\n",
      "100\n",
      "100\n",
      "100\n",
      "100\n",
      "100\n",
      "100\n",
      "100\n",
      "100\n",
      "100\n",
      "100\n",
      "100\n",
      "100\n"
     ]
    }
   ],
   "source": [
    "for i in [1,\n",
    " 5,\n",
    " 9,\n",
    " 11,\n",
    " 13,\n",
    " 15,\n",
    " 17,\n",
    " 19,\n",
    " 21,\n",
    " 23,\n",
    " 25,\n",
    " 27,\n",
    " 29,\n",
    " 31,\n",
    " 33,\n",
    " 35,\n",
    " 37,\n",
    " 39,\n",
    " 41,\n",
    " 43,\n",
    " 45,\n",
    " 47,\n",
    " 49]:\n",
    "    print(rand_penalty[i-1])"
   ]
  },
  {
   "cell_type": "code",
   "execution_count": 98,
   "metadata": {},
   "outputs": [
    {
     "name": "stdout",
     "output_type": "stream",
     "text": [
      "Objective: 23950\n",
      "Dropped nodes: 34 36 48 49\n",
      "Route for vehicle 0:\n",
      " 0 ->  2 ->  16 ->  40 ->  3 ->  35 ->  23 ->  10 ->  42 ->  5 ->  22 ->  46 ->  9 ->  6 ->  13 ->  43 ->  31 ->  7 ->  44 ->  15 ->  4 ->  24 -> 0\n",
      "Distance of the route: 222min\n",
      "\n",
      "Route for vehicle 1:\n",
      " 0 ->  33 ->  28 ->  30 ->  18 ->  25 ->  38 ->  41 ->  26 ->  8 ->  20 ->  37 ->  45 ->  11 ->  29 ->  47 ->  32 ->  27 ->  12 ->  14 ->  19 ->  1 ->  39 ->  21 ->  17 -> 0\n",
      "Distance of the route: 224min\n",
      "\n",
      "Maximum of the route distances: 224min\n"
     ]
    }
   ],
   "source": [
    "def main():\n",
    "    \"\"\"Solve the CVRP problem.\"\"\"\n",
    "    # Instantiate the data problem.\n",
    "    data = create_data_model()\n",
    "\n",
    "    # Create the routing index manager.\n",
    "    manager = pywrapcp.RoutingIndexManager(len(data['distance_matrix']),\n",
    "                                           data['num_vehicles'], data['depot'])\n",
    "\n",
    "    # Create Routing Model.\n",
    "    routing = pywrapcp.RoutingModel(manager)\n",
    "\n",
    "\n",
    "    # Create and register a transit callback.\n",
    "    def distance_callback(from_index, to_index):\n",
    "        \"\"\"Returns the distance between the two nodes.\"\"\"\n",
    "        # Convert from routing variable Index to distance matrix NodeIndex.\n",
    "        from_node = manager.IndexToNode(from_index)\n",
    "        to_node = manager.IndexToNode(to_index)\n",
    "        return data['distance_matrix'][from_node][to_node]\n",
    "\n",
    "    transit_callback_index = routing.RegisterTransitCallback(distance_callback)\n",
    "\n",
    "    # Define cost of each arc.\n",
    "    routing.SetArcCostEvaluatorOfAllVehicles(transit_callback_index)\n",
    "\n",
    "    dimension_name = 'Time'\n",
    "    routing.AddDimension(\n",
    "        transit_callback_index,\n",
    "        15,  # no slack\n",
    "        300,  # vehicle maximum travel distance\n",
    "        False,  # start cumul to zero\n",
    "        dimension_name)\n",
    "    distance_dimension = routing.GetDimensionOrDie(dimension_name)\n",
    "    distance_dimension.SetGlobalSpanCostCoefficient(100)\n",
    "#    # Add Capacity constraint.\n",
    "#    def demand_callback(from_index):\n",
    "#        \"\"\"Returns the demand of the node.\"\"\"\n",
    "#        # Convert from routing variable Index to demands NodeIndex.\n",
    "#        from_node = manager.IndexToNode(from_index)\n",
    "#        return data['demands'][from_node]\n",
    "\n",
    "#    demand_callback_index = routing.RegisterUnaryTransitCallback(\n",
    "#        demand_callback)\n",
    "#    routing.AddDimensionWithVehicleCapacity(\n",
    "#        demand_callback_index,\n",
    "#        0,  # null capacity slack\n",
    "#        data['vehicle_capacities'],  # vehicle maximum capacities\n",
    "#        True,  # start cumul to zero\n",
    "#        'Capacity')\n",
    "\n",
    "    # Allow to drop nodes.\n",
    "    penalty = rand_penalty\n",
    "    for node, p in zip(range(1, len(data['distance_matrix'])),penalty):\n",
    "        routing.AddDisjunction([manager.NodeToIndex(node)], p)\n",
    "\n",
    "    # Setting first solution heuristic.\n",
    "    search_parameters = pywrapcp.DefaultRoutingSearchParameters()\n",
    "    search_parameters.first_solution_strategy = (\n",
    "        routing_enums_pb2.FirstSolutionStrategy.PATH_CHEAPEST_ARC)\n",
    "    search_parameters.local_search_metaheuristic = (\n",
    "        routing_enums_pb2.LocalSearchMetaheuristic.GUIDED_LOCAL_SEARCH)\n",
    "    search_parameters.time_limit.FromSeconds(60)\n",
    "\n",
    "    # Solve the problem.\n",
    "    assignment = routing.SolveWithParameters(search_parameters)\n",
    "\n",
    "    # Print solution on console.\n",
    "    if assignment:\n",
    "        print_solution(data, manager, routing, assignment)\n",
    "\n",
    "\n",
    "if __name__ == '__main__':\n",
    "    main()"
   ]
  },
  {
   "cell_type": "code",
   "execution_count": null,
   "metadata": {},
   "outputs": [],
   "source": []
  },
  {
   "cell_type": "markdown",
   "metadata": {},
   "source": [
    "# Метод ближайшего соседа"
   ]
  },
  {
   "cell_type": "code",
   "execution_count": 559,
   "metadata": {},
   "outputs": [
    {
     "data": {
      "text/html": [
       "<div>\n",
       "<style scoped>\n",
       "    .dataframe tbody tr th:only-of-type {\n",
       "        vertical-align: middle;\n",
       "    }\n",
       "\n",
       "    .dataframe tbody tr th {\n",
       "        vertical-align: top;\n",
       "    }\n",
       "\n",
       "    .dataframe thead th {\n",
       "        text-align: right;\n",
       "    }\n",
       "</style>\n",
       "<table border=\"1\" class=\"dataframe\">\n",
       "  <thead>\n",
       "    <tr style=\"text-align: right;\">\n",
       "      <th></th>\n",
       "      <th>start_point_id</th>\n",
       "      <th>end_point_id</th>\n",
       "      <th>start_point</th>\n",
       "      <th>end_point</th>\n",
       "      <th>car_distance_min</th>\n",
       "      <th>car_distance_m</th>\n",
       "    </tr>\n",
       "  </thead>\n",
       "  <tbody>\n",
       "    <tr>\n",
       "      <th>0</th>\n",
       "      <td>0</td>\n",
       "      <td>1</td>\n",
       "      <td>[55.762316, 37.5854656]</td>\n",
       "      <td>[55.8114155, 37.3864134]</td>\n",
       "      <td>21.61</td>\n",
       "      <td>18241.1</td>\n",
       "    </tr>\n",
       "    <tr>\n",
       "      <th>1</th>\n",
       "      <td>0</td>\n",
       "      <td>2</td>\n",
       "      <td>[55.762316, 37.5854656]</td>\n",
       "      <td>[55.774565, 37.5874377]</td>\n",
       "      <td>3.93</td>\n",
       "      <td>2535.0</td>\n",
       "    </tr>\n",
       "    <tr>\n",
       "      <th>2</th>\n",
       "      <td>0</td>\n",
       "      <td>3</td>\n",
       "      <td>[55.762316, 37.5854656]</td>\n",
       "      <td>[55.807749, 37.570132]</td>\n",
       "      <td>12.61</td>\n",
       "      <td>7920.1</td>\n",
       "    </tr>\n",
       "  </tbody>\n",
       "</table>\n",
       "</div>"
      ],
      "text/plain": [
       "   start_point_id  end_point_id              start_point                 end_point  car_distance_min  car_distance_m\n",
       "0               0             1  [55.762316, 37.5854656]  [55.8114155, 37.3864134]             21.61         18241.1\n",
       "1               0             2  [55.762316, 37.5854656]   [55.774565, 37.5874377]              3.93          2535.0\n",
       "2               0             3  [55.762316, 37.5854656]    [55.807749, 37.570132]             12.61          7920.1"
      ]
     },
     "execution_count": 559,
     "metadata": {},
     "output_type": "execute_result"
    }
   ],
   "source": [
    "res_df.head(3)"
   ]
  },
  {
   "cell_type": "code",
   "execution_count": 89,
   "metadata": {},
   "outputs": [],
   "source": [
    "imput_matrix = [list(map(lambda x: int(np.ceil(x)), row)) for row in distance_matrix]"
   ]
  },
  {
   "cell_type": "code",
   "execution_count": 615,
   "metadata": {},
   "outputs": [
    {
     "data": {
      "image/png": "[encoded data removed]",
      "text/plain": [
       "<Figure size 1440x720 with 1 Axes>"
      ]
     },
     "metadata": {
      "needs_background": "light"
     },
     "output_type": "display_data"
    }
   ],
   "source": [
    "from numpy import exp,sqrt\n",
    "n=50;m=100;ib=0;way=[];a=0\n",
    "#X=np.random.uniform(a,m,n)\n",
    "#Y=np.random.uniform(a,m,n)\n",
    "\n",
    "X = [x[0] for x in test_short_lst]\n",
    "Y = [x[1] for x in test_short_lst]\n",
    "#X=[10, 10, 100,100 ,30, 20, 20, 50, 50, 85, 85, 75, 35, 25, 30, 47, 50]\n",
    "#Y=[5, 85, 0,90,50, 55,50,75 ,25,50,20,80,25,70,10,50,100]\n",
    "#n=len(X)\n",
    "#M = np.zeros([n,n]) # Шаблон матрицы относительных расстояний между пунктами\n",
    "#for i in np.arange(0,n,1):\n",
    "#         for j in np.arange(0,n,1):\n",
    "#                  if i!=j:\n",
    "#                           M[i,j]=sqrt((X[i]-X[j])**2+(Y[i]-Y[j])**2)# Заполнение матрицы\n",
    "#                  else:\n",
    "#                    M[i,j]=float('inf')#Заполнение главной диагонали матрицы     \n",
    "#                    \n",
    "#\n",
    "M = distance_matrix.copy()\n",
    "way.append(ib)\n",
    "for i in np.arange(1,n,1):\n",
    "         s=[]\n",
    "         for j in np.arange(0,n,1):                  \n",
    "                  s.append(M[way[i-1],j])\n",
    "         way.append(s.index(min(s)))# Индексы пунктов ближайших городов соседей\n",
    "         for j in np.arange(0,i,1):\n",
    "                  M[way[i],way[j]]=float('inf')\n",
    "                  M[way[i],way[j]]=float('inf')\n",
    "#S=sum([sqrt((X[way[i]]-X[way[i+1]])**2+(Y[way[i]]-Y[way[i+1]])**2) for i in np.arange(0,n-1,1)])+ sqrt((X[way[n-1]]-X[way[0]])**2+(Y[way[n-1]]-Y[way[0]])**2)\n",
    "way_full = way + [ib]\n",
    "S = 0\n",
    "for i in range(n):\n",
    "    S+=distance_matrix[way_full[i]][way_full[i+1]]\n",
    "\n",
    "plt.title('Общий путь-%s.Номер города-%i.Всего городов -%i.\\n Координаты X,Y случайные числа от %i до %i'%(round(S,3),ib,n,a,m), size=14)\n",
    "X1=[X[way[i]] for i in np.arange(0,n,1)]\n",
    "Y1=[Y[way[i]] for i in np.arange(0,n,1)]    \n",
    "plt.plot(X1, Y1, color='r', linestyle=' ', marker='o')\n",
    "plt.plot(X1, Y1, color='b', linewidth=1)   \n",
    "X2=[X[way[n-1]],X[way[0]]]\n",
    "Y2=[Y[way[n-1]],Y[way[0]]]\n",
    "plt.plot(X2, Y2, color='g', linewidth=2,  linestyle='-', label='Путь от  последнего \\n к первому городу') \n",
    "plt.legend(loc='best')\n",
    "plt.grid(True)\n",
    "plt.show()  "
   ]
  },
  {
   "cell_type": "markdown",
   "metadata": {},
   "source": [
    "# mlrose"
   ]
  },
  {
   "cell_type": "code",
   "execution_count": 634,
   "metadata": {},
   "outputs": [
    {
     "name": "stdout",
     "output_type": "stream",
     "text": [
      "Collecting mlrose\n",
      "  Downloading mlrose-1.3.0-py3-none-any.whl (27 kB)\n",
      "Collecting sklearn\n",
      "  Downloading sklearn-0.0.post4.tar.gz (3.6 kB)\n",
      "Requirement already satisfied: numpy in d:\\programs\\anaconda\\lib\\site-packages (from mlrose) (1.19.2)\n",
      "Requirement already satisfied: scipy in d:\\programs\\anaconda\\lib\\site-packages (from mlrose) (1.10.1)\n",
      "Building wheels for collected packages: sklearn\n",
      "  Building wheel for sklearn (setup.py): started\n",
      "  Building wheel for sklearn (setup.py): finished with status 'done'\n",
      "  Created wheel for sklearn: filename=sklearn-0.0.post4-py3-none-any.whl size=2375 sha256=3b18ced45de0dc2f545659a51a560a19d6535221e8a4fab22972b97513446eee\n",
      "  Stored in directory: c:\\users\\anna\\appdata\\local\\pip\\cache\\wheels\\84\\3f\\80\\e49971719e76c0387733de7973744b4b19b01dc14afcce8829\n",
      "Successfully built sklearn\n",
      "Installing collected packages: sklearn, mlrose\n",
      "Successfully installed mlrose-1.3.0 sklearn-0.0.post4\n"
     ]
    }
   ],
   "source": [
    "!pip install mlrose"
   ]
  },
  {
   "cell_type": "code",
   "execution_count": 3,
   "metadata": {},
   "outputs": [],
   "source": [
    "import six\n",
    "import sys\n",
    "import scipy\n",
    "sys.modules['sklearn.externals.six'] = six\n",
    "import mlrose"
   ]
  },
  {
   "cell_type": "code",
   "execution_count": 47,
   "metadata": {},
   "outputs": [],
   "source": [
    "coords_list = [(1, 1), (4, 2), (5, 2), (6, 4), (4, 4), (3, 6), (1, 5), (2, 3)]\n",
    "\n",
    "dist_list = [(0, 1, 3.1623), (0, 2, 4.1231), (0, 3, 5.8310), (0, 4, 4.2426), \\\n",
    "             (0, 5, 5.3852), (0, 6, 4.0000), (0, 7, 2.2361), (1, 2, 1.0000), \\\n",
    "             (1, 3, 2.8284), (1, 4, 2.0000), (1, 5, 4.1231), (1, 6, 4.2426), \\\n",
    "             (1, 7, 2.2361), (2, 3, 2.2361), (2, 4, 2.2361), (2, 5, 4.4721), \\\n",
    "             (2, 6, 5.0000), (2, 7, 3.1623), (3, 4, 2.0000), (3, 5, 3.6056), \\\n",
    "             (3, 6, 5.0990), (3, 7, 4.1231), (4, 5, 2.2361), (4, 6, 3.1623), \\\n",
    "             (4, 7, 2.2361), (5, 6, 2.2361), (5, 7, 3.1623), (6, 7, 2.2361)]"
   ]
  },
  {
   "cell_type": "code",
   "execution_count": 61,
   "metadata": {},
   "outputs": [],
   "source": [
    "coords_list = [(x[0], x[1])  for x in test_short_lst]\n",
    "dist_list = [(res_df.start_point_id.iloc[i], res_df.end_point_id.iloc[i], res_df.car_distance_min.iloc[i]) \\\n",
    "             for i in range(len(res_df))]"
   ]
  },
  {
   "cell_type": "code",
   "execution_count": 72,
   "metadata": {},
   "outputs": [],
   "source": [
    "fitness_coords = mlrose.TravellingSales(coords = coords_list)\n",
    "fitness_dists = mlrose.TravellingSales(distances = dist_list)"
   ]
  },
  {
   "cell_type": "code",
   "execution_count": 75,
   "metadata": {},
   "outputs": [],
   "source": [
    "problem_fit = mlrose.TSPOpt(length = 50, \n",
    "                            fitness_fn = fitness_coords,\n",
    "                            #coords=fitness_coords,\n",
    "                            distances= fitness_dists,\n",
    "                            maximize=False)"
   ]
  },
  {
   "cell_type": "code",
   "execution_count": 104,
   "metadata": {},
   "outputs": [
    {
     "name": "stdout",
     "output_type": "stream",
     "text": [
      "The best state found is:  [24 29 13  2  8 34 16 19 31 21 20 14 49 25 47 37 17 39 40 38  3 28  9 48\n",
      " 42 11  7 33  6  1 27 23 15 35  4 12 18 22 10 43 41 32 36 45 44 26  5 46\n",
      " 30  0]\n",
      "The fitness at the best state is:  6.128060765605757\n",
      "Wall time: 1min 52s\n"
     ]
    }
   ],
   "source": [
    "%%time\n",
    "best_state, best_fitness = mlrose.genetic_alg(problem_fit, mutation_prob = 0.2, \n",
    "\t\t\t\t\t      max_attempts = 1000, random_state = 2)\n",
    "\n",
    "print('The best state found is: ', best_state)\n",
    "\n",
    "print('The fitness at the best state is: ', best_fitness)"
   ]
  },
  {
   "cell_type": "code",
   "execution_count": 105,
   "metadata": {},
   "outputs": [],
   "source": [
    "S = 0\n",
    "way_full =[0]+list(best_state)\n",
    "for i in range(50):\n",
    "    S+=distance_matrix[way_full[i]][way_full[i+1]]"
   ]
  },
  {
   "cell_type": "code",
   "execution_count": 106,
   "metadata": {},
   "outputs": [
    {
     "data": {
      "text/plain": [
       "1167.29"
      ]
     },
     "execution_count": 106,
     "metadata": {},
     "output_type": "execute_result"
    }
   ],
   "source": [
    "S"
   ]
  },
  {
   "cell_type": "code",
   "execution_count": 97,
   "metadata": {},
   "outputs": [],
   "source": [
    "from mlrose.decay import GeomDecay"
   ]
  },
  {
   "cell_type": "code",
   "execution_count": 107,
   "metadata": {},
   "outputs": [
    {
     "name": "stdout",
     "output_type": "stream",
     "text": [
      "Wall time: 2.23 s\n"
     ]
    }
   ],
   "source": [
    "%%time\n",
    "best_state, best_fitness = mlrose.simulated_annealing(problem_fit, schedule=GeomDecay(), max_attempts=1000,\n",
    "                        random_state=2)\n"
   ]
  },
  {
   "cell_type": "code",
   "execution_count": 108,
   "metadata": {},
   "outputs": [
    {
     "data": {
      "text/plain": [
       "1061.44"
      ]
     },
     "execution_count": 108,
     "metadata": {},
     "output_type": "execute_result"
    }
   ],
   "source": [
    "S = 0\n",
    "way_full =[0]+list(best_state)\n",
    "for i in range(50):\n",
    "    S+=distance_matrix[way_full[i]][way_full[i+1]]\n",
    "S"
   ]
  },
  {
   "cell_type": "code",
   "execution_count": null,
   "metadata": {},
   "outputs": [],
   "source": []
  }
 ],
 "metadata": {
  "kernelspec": {
   "display_name": "Python 3",
   "language": "python",
   "name": "python3"
  },
  "language_info": {
   "codemirror_mode": {
    "name": "ipython",
    "version": 3
   },
   "file_extension": ".py",
   "mimetype": "text/x-python",
   "name": "python",
   "nbconvert_exporter": "python",
   "pygments_lexer": "ipython3",
   "version": "3.8.5"
  }
 },
 "nbformat": 4,
 "nbformat_minor": 4
}
