{
 "cells": [
  {
   "cell_type": "code",
   "execution_count": 3,
   "metadata": {},
   "outputs": [],
   "source": [
    "import pandas as pd\n",
    "import numpy as np"
   ]
  },
  {
   "cell_type": "code",
   "execution_count": 21,
   "metadata": {},
   "outputs": [],
   "source": [
    "outs = pd.read_csv('data/outliers_and_data_per_tid_per_date.csv', index_col=0)\n",
    "incomes = pd.read_excel('data/terminal_data_hackathon v4.xlsx', sheet_name='Incomes', index_col='TID')"
   ]
  },
  {
   "cell_type": "code",
   "execution_count": 15,
   "metadata": {},
   "outputs": [
    {
     "data": {
      "text/html": [
       "<div>\n",
       "<style scoped>\n",
       "    .dataframe tbody tr th:only-of-type {\n",
       "        vertical-align: middle;\n",
       "    }\n",
       "\n",
       "    .dataframe tbody tr th {\n",
       "        vertical-align: top;\n",
       "    }\n",
       "\n",
       "    .dataframe thead th {\n",
       "        text-align: right;\n",
       "    }\n",
       "</style>\n",
       "<table border=\"1\" class=\"dataframe\">\n",
       "  <thead>\n",
       "    <tr style=\"text-align: right;\">\n",
       "      <th></th>\n",
       "      <th>406136</th>\n",
       "      <th>406139</th>\n",
       "      <th>406145</th>\n",
       "      <th>406148</th>\n",
       "      <th>406180</th>\n",
       "      <th>406190</th>\n",
       "      <th>406196</th>\n",
       "      <th>406504</th>\n",
       "      <th>406509</th>\n",
       "      <th>406536</th>\n",
       "      <th>...</th>\n",
       "      <th>699451_outl_abs_500000_sigma_0</th>\n",
       "      <th>699540_outl_abs_500000_sigma_0</th>\n",
       "      <th>699560_outl_abs_500000_sigma_0</th>\n",
       "      <th>699572_outl_abs_500000_sigma_0</th>\n",
       "      <th>699577_outl_abs_500000_sigma_0</th>\n",
       "      <th>699578_outl_abs_500000_sigma_0</th>\n",
       "      <th>699579_outl_abs_500000_sigma_0</th>\n",
       "      <th>699629_outl_abs_500000_sigma_0</th>\n",
       "      <th>699641_outl_abs_500000_sigma_0</th>\n",
       "      <th>699664_outl_abs_500000_sigma_0</th>\n",
       "    </tr>\n",
       "  </thead>\n",
       "  <tbody>\n",
       "    <tr>\n",
       "      <th>2022-09-01</th>\n",
       "      <td>90000</td>\n",
       "      <td>103000</td>\n",
       "      <td>143000</td>\n",
       "      <td>50000</td>\n",
       "      <td>96000</td>\n",
       "      <td>219000</td>\n",
       "      <td>115000</td>\n",
       "      <td>382000</td>\n",
       "      <td>128000</td>\n",
       "      <td>63000</td>\n",
       "      <td>...</td>\n",
       "      <td>0</td>\n",
       "      <td>0</td>\n",
       "      <td>0</td>\n",
       "      <td>0</td>\n",
       "      <td>0</td>\n",
       "      <td>0</td>\n",
       "      <td>0</td>\n",
       "      <td>0</td>\n",
       "      <td>0</td>\n",
       "      <td>0</td>\n",
       "    </tr>\n",
       "    <tr>\n",
       "      <th>2022-09-02</th>\n",
       "      <td>105000</td>\n",
       "      <td>206000</td>\n",
       "      <td>136000</td>\n",
       "      <td>73000</td>\n",
       "      <td>82000</td>\n",
       "      <td>236000</td>\n",
       "      <td>123000</td>\n",
       "      <td>317000</td>\n",
       "      <td>126000</td>\n",
       "      <td>65000</td>\n",
       "      <td>...</td>\n",
       "      <td>0</td>\n",
       "      <td>0</td>\n",
       "      <td>0</td>\n",
       "      <td>0</td>\n",
       "      <td>0</td>\n",
       "      <td>0</td>\n",
       "      <td>0</td>\n",
       "      <td>0</td>\n",
       "      <td>0</td>\n",
       "      <td>0</td>\n",
       "    </tr>\n",
       "    <tr>\n",
       "      <th>2022-09-03</th>\n",
       "      <td>99000</td>\n",
       "      <td>168000</td>\n",
       "      <td>124000</td>\n",
       "      <td>53000</td>\n",
       "      <td>71000</td>\n",
       "      <td>218000</td>\n",
       "      <td>121000</td>\n",
       "      <td>479000</td>\n",
       "      <td>170000</td>\n",
       "      <td>0</td>\n",
       "      <td>...</td>\n",
       "      <td>0</td>\n",
       "      <td>0</td>\n",
       "      <td>0</td>\n",
       "      <td>0</td>\n",
       "      <td>0</td>\n",
       "      <td>0</td>\n",
       "      <td>0</td>\n",
       "      <td>0</td>\n",
       "      <td>0</td>\n",
       "      <td>0</td>\n",
       "    </tr>\n",
       "    <tr>\n",
       "      <th>2022-09-04</th>\n",
       "      <td>107000</td>\n",
       "      <td>124000</td>\n",
       "      <td>117000</td>\n",
       "      <td>65000</td>\n",
       "      <td>72000</td>\n",
       "      <td>212000</td>\n",
       "      <td>120000</td>\n",
       "      <td>333000</td>\n",
       "      <td>113000</td>\n",
       "      <td>0</td>\n",
       "      <td>...</td>\n",
       "      <td>0</td>\n",
       "      <td>0</td>\n",
       "      <td>0</td>\n",
       "      <td>0</td>\n",
       "      <td>0</td>\n",
       "      <td>0</td>\n",
       "      <td>0</td>\n",
       "      <td>0</td>\n",
       "      <td>0</td>\n",
       "      <td>0</td>\n",
       "    </tr>\n",
       "    <tr>\n",
       "      <th>2022-09-05</th>\n",
       "      <td>110000</td>\n",
       "      <td>78000</td>\n",
       "      <td>123000</td>\n",
       "      <td>75000</td>\n",
       "      <td>86000</td>\n",
       "      <td>207000</td>\n",
       "      <td>96000</td>\n",
       "      <td>232000</td>\n",
       "      <td>120000</td>\n",
       "      <td>201000</td>\n",
       "      <td>...</td>\n",
       "      <td>0</td>\n",
       "      <td>0</td>\n",
       "      <td>0</td>\n",
       "      <td>0</td>\n",
       "      <td>0</td>\n",
       "      <td>0</td>\n",
       "      <td>0</td>\n",
       "      <td>0</td>\n",
       "      <td>0</td>\n",
       "      <td>0</td>\n",
       "    </tr>\n",
       "  </tbody>\n",
       "</table>\n",
       "<p>5 rows × 9780 columns</p>\n",
       "</div>"
      ],
      "text/plain": [
       "            406136  406139  406145  406148  406180  406190  406196  406504   \n",
       "2022-09-01   90000  103000  143000   50000   96000  219000  115000  382000  \\\n",
       "2022-09-02  105000  206000  136000   73000   82000  236000  123000  317000   \n",
       "2022-09-03   99000  168000  124000   53000   71000  218000  121000  479000   \n",
       "2022-09-04  107000  124000  117000   65000   72000  212000  120000  333000   \n",
       "2022-09-05  110000   78000  123000   75000   86000  207000   96000  232000   \n",
       "\n",
       "            406509  406536  ...  699451_outl_abs_500000_sigma_0   \n",
       "2022-09-01  128000   63000  ...                               0  \\\n",
       "2022-09-02  126000   65000  ...                               0   \n",
       "2022-09-03  170000       0  ...                               0   \n",
       "2022-09-04  113000       0  ...                               0   \n",
       "2022-09-05  120000  201000  ...                               0   \n",
       "\n",
       "            699540_outl_abs_500000_sigma_0  699560_outl_abs_500000_sigma_0   \n",
       "2022-09-01                               0                               0  \\\n",
       "2022-09-02                               0                               0   \n",
       "2022-09-03                               0                               0   \n",
       "2022-09-04                               0                               0   \n",
       "2022-09-05                               0                               0   \n",
       "\n",
       "            699572_outl_abs_500000_sigma_0  699577_outl_abs_500000_sigma_0   \n",
       "2022-09-01                               0                               0  \\\n",
       "2022-09-02                               0                               0   \n",
       "2022-09-03                               0                               0   \n",
       "2022-09-04                               0                               0   \n",
       "2022-09-05                               0                               0   \n",
       "\n",
       "            699578_outl_abs_500000_sigma_0  699579_outl_abs_500000_sigma_0   \n",
       "2022-09-01                               0                               0  \\\n",
       "2022-09-02                               0                               0   \n",
       "2022-09-03                               0                               0   \n",
       "2022-09-04                               0                               0   \n",
       "2022-09-05                               0                               0   \n",
       "\n",
       "            699629_outl_abs_500000_sigma_0  699641_outl_abs_500000_sigma_0   \n",
       "2022-09-01                               0                               0  \\\n",
       "2022-09-02                               0                               0   \n",
       "2022-09-03                               0                               0   \n",
       "2022-09-04                               0                               0   \n",
       "2022-09-05                               0                               0   \n",
       "\n",
       "            699664_outl_abs_500000_sigma_0  \n",
       "2022-09-01                               0  \n",
       "2022-09-02                               0  \n",
       "2022-09-03                               0  \n",
       "2022-09-04                               0  \n",
       "2022-09-05                               0  \n",
       "\n",
       "[5 rows x 9780 columns]"
      ]
     },
     "execution_count": 15,
     "metadata": {},
     "output_type": "execute_result"
    }
   ],
   "source": [
    "outs.head()"
   ]
  },
  {
   "cell_type": "code",
   "execution_count": 16,
   "metadata": {},
   "outputs": [
    {
     "data": {
      "text/plain": [
       "406139_outl_abs_300000_sigma_1     1\n",
       "406145_outl_abs_300000_sigma_1     2\n",
       "406190_outl_abs_300000_sigma_1     2\n",
       "406196_outl_abs_300000_sigma_1     1\n",
       "406504_outl_abs_300000_sigma_1    12\n",
       "                                  ..\n",
       "693658_outl_abs_300000_sigma_1     1\n",
       "698735_outl_abs_300000_sigma_1     1\n",
       "698956_outl_abs_300000_sigma_1     1\n",
       "698957_outl_abs_300000_sigma_1     1\n",
       "698983_outl_abs_300000_sigma_1     1\n",
       "Length: 71, dtype: int64"
      ]
     },
     "execution_count": 16,
     "metadata": {},
     "output_type": "execute_result"
    }
   ],
   "source": [
    "outs1 = outs.iloc[:,['_outl_abs_300000_sigma_1' in x for x in outs.columns]].sum()\n",
    "outs1[outs1!=0] # более 300тыс и правее 1сигмы от средней"
   ]
  },
  {
   "cell_type": "code",
   "execution_count": 17,
   "metadata": {},
   "outputs": [
    {
     "data": {
      "text/plain": [
       "406190_outl_abs_500000_sigma_1     1\n",
       "605329_outl_abs_500000_sigma_1     9\n",
       "605378_outl_abs_500000_sigma_1     1\n",
       "606531_outl_abs_500000_sigma_1     1\n",
       "616681_outl_abs_500000_sigma_1     4\n",
       "629806_outl_abs_500000_sigma_1     1\n",
       "634558_outl_abs_500000_sigma_1    10\n",
       "634655_outl_abs_500000_sigma_1     1\n",
       "635576_outl_abs_500000_sigma_1     1\n",
       "636538_outl_abs_500000_sigma_1     1\n",
       "636752_outl_abs_500000_sigma_1     1\n",
       "636754_outl_abs_500000_sigma_1     1\n",
       "644825_outl_abs_500000_sigma_1     2\n",
       "657936_outl_abs_500000_sigma_1     1\n",
       "658930_outl_abs_500000_sigma_1     2\n",
       "669424_outl_abs_500000_sigma_1     1\n",
       "676383_outl_abs_500000_sigma_1     1\n",
       "676981_outl_abs_500000_sigma_1     1\n",
       "686118_outl_abs_500000_sigma_1     1\n",
       "dtype: int64"
      ]
     },
     "execution_count": 17,
     "metadata": {},
     "output_type": "execute_result"
    }
   ],
   "source": [
    "outs2 = outs.iloc[:,['_outl_abs_500000_sigma_1' in x for x in outs.columns]].sum()\n",
    "outs2[outs2!=0] # более 500тыс и правее 1сигмы от средней"
   ]
  },
  {
   "cell_type": "code",
   "execution_count": 18,
   "metadata": {},
   "outputs": [],
   "source": [
    "problem_tid_lst = [int(x[:6]) for x in outs1[outs1!=0].index]"
   ]
  },
  {
   "cell_type": "code",
   "execution_count": 19,
   "metadata": {},
   "outputs": [],
   "source": [
    "pred = pd.read_csv('data/predictions_all_period.csv', index_col=0).T"
   ]
  },
  {
   "cell_type": "code",
   "execution_count": 22,
   "metadata": {},
   "outputs": [
    {
     "name": "stderr",
     "output_type": "stream",
     "text": [
      "<ipython-input-22-4e2526c70d44>:3: RuntimeWarning: divide by zero encountered in divide\n",
      "  diffs2 = pd.DataFrame(diffs_abs.values /incomes.iloc[:,1:].values,\n",
      "<ipython-input-22-4e2526c70d44>:3: RuntimeWarning: invalid value encountered in divide\n",
      "  diffs2 = pd.DataFrame(diffs_abs.values /incomes.iloc[:,1:].values,\n"
     ]
    },
    {
     "data": {
      "text/plain": [
       "count    1630.000000\n",
       "mean        0.213993\n",
       "std         0.169214\n",
       "min         0.046954\n",
       "25%         0.124892\n",
       "50%         0.165314\n",
       "75%         0.243742\n",
       "max         2.858016\n",
       "dtype: float64"
      ]
     },
     "execution_count": 22,
     "metadata": {},
     "output_type": "execute_result"
    }
   ],
   "source": [
    "diffs = pd.DataFrame(data=incomes.iloc[:,1:].values - pred.values, index=pred.index, columns=pred.columns)\n",
    "diffs_abs = diffs.apply(abs) \n",
    "diffs2 = pd.DataFrame(diffs_abs.values /incomes.iloc[:,1:].values,\n",
    "                      index=pred.index, columns=pred.columns).replace(-np.inf, 0).replace(np.inf, 0)\n",
    "diffs2.mean(axis=1).describe() # все отклонения"
   ]
  },
  {
   "cell_type": "code",
   "execution_count": 23,
   "metadata": {},
   "outputs": [
    {
     "name": "stderr",
     "output_type": "stream",
     "text": [
      "<ipython-input-23-09d9a6ff8021>:1: RuntimeWarning: divide by zero encountered in divide\n",
      "  diffs3 = pd.DataFrame(diffs.values/incomes.iloc[:,1:].values,\n",
      "<ipython-input-23-09d9a6ff8021>:1: RuntimeWarning: invalid value encountered in divide\n",
      "  diffs3 = pd.DataFrame(diffs.values/incomes.iloc[:,1:].values,\n"
     ]
    },
    {
     "data": {
      "text/plain": [
       "count    1630.000000\n",
       "mean        0.076577\n",
       "std         0.043574\n",
       "min         0.019990\n",
       "25%         0.048229\n",
       "50%         0.063256\n",
       "75%         0.087055\n",
       "max         0.455354\n",
       "dtype: float64"
      ]
     },
     "execution_count": 23,
     "metadata": {},
     "output_type": "execute_result"
    }
   ],
   "source": [
    "diffs3 = pd.DataFrame(diffs.values/incomes.iloc[:,1:].values,\n",
    "                      index=pred.index, columns=pred.columns).replace(-np.inf, 0).replace(np.inf, 0)\n",
    "diffs3 = diffs3.applymap(lambda x: max(0,x))\n",
    "diffs3.mean(axis=1).describe() # только отклонения предикта в меньшую сторону"
   ]
  },
  {
   "cell_type": "code",
   "execution_count": null,
   "metadata": {},
   "outputs": [],
   "source": []
  },
  {
   "cell_type": "code",
   "execution_count": null,
   "metadata": {},
   "outputs": [],
   "source": []
  },
  {
   "cell_type": "code",
   "execution_count": null,
   "metadata": {},
   "outputs": [],
   "source": []
  }
 ],
 "metadata": {
  "kernelspec": {
   "display_name": "Python 3",
   "language": "python",
   "name": "python3"
  },
  "language_info": {
   "codemirror_mode": {
    "name": "ipython",
    "version": 3
   },
   "file_extension": ".py",
   "mimetype": "text/x-python",
   "name": "python",
   "nbconvert_exporter": "python",
   "pygments_lexer": "ipython3",
   "version": "3.8.5"
  }
 },
 "nbformat": 4,
 "nbformat_minor": 4
}
